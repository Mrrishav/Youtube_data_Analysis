{
 "cells": [
  {
   "cell_type": "code",
   "execution_count": 8,
   "id": "9171a75b",
   "metadata": {},
   "outputs": [],
   "source": [
    "import pandas as pd\n",
    "import numpy as np\n",
    "import matplotlib.pyplot as plt\n",
    "import seaborn as sns"
   ]
  },
  {
   "cell_type": "code",
   "execution_count": 9,
   "id": "fc96221c",
   "metadata": {},
   "outputs": [
    {
     "name": "stderr",
     "output_type": "stream",
     "text": [
      "b'Skipping line 41589: expected 4 fields, saw 11\\nSkipping line 51628: expected 4 fields, saw 7\\nSkipping line 114465: expected 4 fields, saw 5\\n'\n",
      "b'Skipping line 142496: expected 4 fields, saw 8\\nSkipping line 189732: expected 4 fields, saw 6\\nSkipping line 245218: expected 4 fields, saw 7\\n'\n",
      "b'Skipping line 388430: expected 4 fields, saw 5\\n'\n",
      "c:\\python37\\lib\\site-packages\\IPython\\core\\interactiveshell.py:3186: DtypeWarning: Columns (2,3) have mixed types.Specify dtype option on import or set low_memory=False.\n",
      "  interactivity=interactivity, compiler=compiler, result=result)\n"
     ]
    }
   ],
   "source": [
    "df = pd.read_csv(r'C:\\Users\\c08ri\\Downloads\\Youtube_project_shan_singh\\Youtube_project_shan_singh/UScomments.csv',error_bad_lines=False)"
   ]
  },
  {
   "cell_type": "code",
   "execution_count": 10,
   "id": "2a298a5e",
   "metadata": {
    "scrolled": true
   },
   "outputs": [
    {
     "data": {
      "text/html": [
       "<div>\n",
       "<style scoped>\n",
       "    .dataframe tbody tr th:only-of-type {\n",
       "        vertical-align: middle;\n",
       "    }\n",
       "\n",
       "    .dataframe tbody tr th {\n",
       "        vertical-align: top;\n",
       "    }\n",
       "\n",
       "    .dataframe thead th {\n",
       "        text-align: right;\n",
       "    }\n",
       "</style>\n",
       "<table border=\"1\" class=\"dataframe\">\n",
       "  <thead>\n",
       "    <tr style=\"text-align: right;\">\n",
       "      <th></th>\n",
       "      <th>video_id</th>\n",
       "      <th>comment_text</th>\n",
       "      <th>likes</th>\n",
       "      <th>replies</th>\n",
       "    </tr>\n",
       "  </thead>\n",
       "  <tbody>\n",
       "    <tr>\n",
       "      <th>0</th>\n",
       "      <td>XpVt6Z1Gjjo</td>\n",
       "      <td>Logan Paul it's yo big day ‼️‼️‼️</td>\n",
       "      <td>4</td>\n",
       "      <td>0</td>\n",
       "    </tr>\n",
       "    <tr>\n",
       "      <th>1</th>\n",
       "      <td>XpVt6Z1Gjjo</td>\n",
       "      <td>I've been following you from the start of your...</td>\n",
       "      <td>3</td>\n",
       "      <td>0</td>\n",
       "    </tr>\n",
       "    <tr>\n",
       "      <th>2</th>\n",
       "      <td>XpVt6Z1Gjjo</td>\n",
       "      <td>Say hi to Kong and maverick for me</td>\n",
       "      <td>3</td>\n",
       "      <td>0</td>\n",
       "    </tr>\n",
       "    <tr>\n",
       "      <th>3</th>\n",
       "      <td>XpVt6Z1Gjjo</td>\n",
       "      <td>MY FAN . attendance</td>\n",
       "      <td>3</td>\n",
       "      <td>0</td>\n",
       "    </tr>\n",
       "    <tr>\n",
       "      <th>4</th>\n",
       "      <td>XpVt6Z1Gjjo</td>\n",
       "      <td>trending 😉</td>\n",
       "      <td>3</td>\n",
       "      <td>0</td>\n",
       "    </tr>\n",
       "  </tbody>\n",
       "</table>\n",
       "</div>"
      ],
      "text/plain": [
       "      video_id                                       comment_text likes  \\\n",
       "0  XpVt6Z1Gjjo                  Logan Paul it's yo big day ‼️‼️‼️     4   \n",
       "1  XpVt6Z1Gjjo  I've been following you from the start of your...     3   \n",
       "2  XpVt6Z1Gjjo                 Say hi to Kong and maverick for me     3   \n",
       "3  XpVt6Z1Gjjo                                MY FAN . attendance     3   \n",
       "4  XpVt6Z1Gjjo                                         trending 😉     3   \n",
       "\n",
       "  replies  \n",
       "0       0  \n",
       "1       0  \n",
       "2       0  \n",
       "3       0  \n",
       "4       0  "
      ]
     },
     "execution_count": 10,
     "metadata": {},
     "output_type": "execute_result"
    }
   ],
   "source": [
    "df.head()"
   ]
  },
  {
   "cell_type": "code",
   "execution_count": 11,
   "id": "b047802c",
   "metadata": {},
   "outputs": [],
   "source": [
    "### Lets perform Seentiments analysis..\n",
    "# Some Library are-:\n",
    "#     1. TextBlob  -> NLP\n",
    "#     2. Vader\n",
    "#     3. spacy"
   ]
  },
  {
   "cell_type": "code",
   "execution_count": 12,
   "id": "78fd8a6a",
   "metadata": {},
   "outputs": [
    {
     "data": {
      "text/plain": [
       "video_id         0\n",
       "comment_text    25\n",
       "likes            0\n",
       "replies          0\n",
       "dtype: int64"
      ]
     },
     "execution_count": 12,
     "metadata": {},
     "output_type": "execute_result"
    }
   ],
   "source": [
    "df.isnull().sum()"
   ]
  },
  {
   "cell_type": "code",
   "execution_count": 13,
   "id": "a71b108a",
   "metadata": {},
   "outputs": [],
   "source": [
    "df.dropna(inplace=True)"
   ]
  },
  {
   "cell_type": "code",
   "execution_count": 14,
   "id": "d4f5399c",
   "metadata": {},
   "outputs": [
    {
     "name": "stdout",
     "output_type": "stream",
     "text": [
      "Requirement already satisfied: textblob in c:\\python310\\lib\\site-packages (0.17.1)\n",
      "Requirement already satisfied: nltk>=3.1 in c:\\python310\\lib\\site-packages (from textblob) (3.7)\n",
      "Requirement already satisfied: tqdm in c:\\python310\\lib\\site-packages (from nltk>=3.1->textblob) (4.64.1)\n",
      "Requirement already satisfied: joblib in c:\\python310\\lib\\site-packages (from nltk>=3.1->textblob) (1.2.0)\n",
      "Requirement already satisfied: click in c:\\python310\\lib\\site-packages (from nltk>=3.1->textblob) (8.1.3)\n",
      "Requirement already satisfied: regex>=2021.8.3 in c:\\python310\\lib\\site-packages (from nltk>=3.1->textblob) (2022.9.13)\n",
      "Requirement already satisfied: colorama in c:\\python310\\lib\\site-packages (from click->nltk>=3.1->textblob) (0.4.5)\n"
     ]
    },
    {
     "name": "stderr",
     "output_type": "stream",
     "text": [
      "WARNING: Ignoring invalid distribution -ip (c:\\python310\\lib\\site-packages)\n",
      "WARNING: Ignoring invalid distribution - (c:\\python310\\lib\\site-packages)\n",
      "WARNING: Ignoring invalid distribution -ip (c:\\python310\\lib\\site-packages)\n",
      "WARNING: Ignoring invalid distribution - (c:\\python310\\lib\\site-packages)\n",
      "WARNING: Ignoring invalid distribution -ip (c:\\python310\\lib\\site-packages)\n",
      "WARNING: Ignoring invalid distribution - (c:\\python310\\lib\\site-packages)\n",
      "WARNING: Ignoring invalid distribution -ip (c:\\python310\\lib\\site-packages)\n",
      "WARNING: Ignoring invalid distribution - (c:\\python310\\lib\\site-packages)\n"
     ]
    }
   ],
   "source": [
    "! pip install textblob"
   ]
  },
  {
   "cell_type": "code",
   "execution_count": 15,
   "id": "56bb86ec",
   "metadata": {},
   "outputs": [],
   "source": [
    "from textblob import TextBlob"
   ]
  },
  {
   "cell_type": "code",
   "execution_count": 16,
   "id": "da3476e3",
   "metadata": {},
   "outputs": [
    {
     "data": {
      "text/plain": [
       "0.0"
      ]
     },
     "execution_count": 16,
     "metadata": {},
     "output_type": "execute_result"
    }
   ],
   "source": [
    "TextBlob('trending 😉').sentiment.polarity"
   ]
  },
  {
   "cell_type": "code",
   "execution_count": 17,
   "id": "d32ef784",
   "metadata": {},
   "outputs": [
    {
     "data": {
      "text/plain": [
       "video_id        0\n",
       "comment_text    0\n",
       "likes           0\n",
       "replies         0\n",
       "dtype: int64"
      ]
     },
     "execution_count": 17,
     "metadata": {},
     "output_type": "execute_result"
    }
   ],
   "source": [
    "comment_sample = df[0:100]\n",
    "comment_sample.head()\n",
    "comment_sample.isnull().sum()"
   ]
  },
  {
   "cell_type": "code",
   "execution_count": 18,
   "id": "2e023333",
   "metadata": {},
   "outputs": [],
   "source": [
    "comment_sample = df[0:100]\n",
    "polarity=[]\n",
    "for comment in df['comment_text']:\n",
    "    try:\n",
    "        polarity.append(TextBlob(comment).sentiment.polarity)\n",
    "    except:\n",
    "        polarity.append(0)"
   ]
  },
  {
   "cell_type": "code",
   "execution_count": 19,
   "id": "c90bfc0e",
   "metadata": {},
   "outputs": [
    {
     "data": {
      "text/plain": [
       "[0.0, 0.0, 0.0, 0.0, 0.0, 0.0, 0.0, 0.0, 0.8, -0.13571428571428573]"
      ]
     },
     "execution_count": 19,
     "metadata": {},
     "output_type": "execute_result"
    }
   ],
   "source": [
    "polarity[0:10]"
   ]
  },
  {
   "cell_type": "code",
   "execution_count": 20,
   "id": "d88e5737",
   "metadata": {},
   "outputs": [],
   "source": [
    "df['polarity']=polarity"
   ]
  },
  {
   "cell_type": "code",
   "execution_count": 21,
   "id": "21c14907",
   "metadata": {},
   "outputs": [
    {
     "data": {
      "text/html": [
       "<div>\n",
       "<style scoped>\n",
       "    .dataframe tbody tr th:only-of-type {\n",
       "        vertical-align: middle;\n",
       "    }\n",
       "\n",
       "    .dataframe tbody tr th {\n",
       "        vertical-align: top;\n",
       "    }\n",
       "\n",
       "    .dataframe thead th {\n",
       "        text-align: right;\n",
       "    }\n",
       "</style>\n",
       "<table border=\"1\" class=\"dataframe\">\n",
       "  <thead>\n",
       "    <tr style=\"text-align: right;\">\n",
       "      <th></th>\n",
       "      <th>video_id</th>\n",
       "      <th>comment_text</th>\n",
       "      <th>likes</th>\n",
       "      <th>replies</th>\n",
       "      <th>polarity</th>\n",
       "    </tr>\n",
       "  </thead>\n",
       "  <tbody>\n",
       "    <tr>\n",
       "      <th>0</th>\n",
       "      <td>XpVt6Z1Gjjo</td>\n",
       "      <td>Logan Paul it's yo big day ‼️‼️‼️</td>\n",
       "      <td>4</td>\n",
       "      <td>0</td>\n",
       "      <td>0.000000</td>\n",
       "    </tr>\n",
       "    <tr>\n",
       "      <th>1</th>\n",
       "      <td>XpVt6Z1Gjjo</td>\n",
       "      <td>I've been following you from the start of your...</td>\n",
       "      <td>3</td>\n",
       "      <td>0</td>\n",
       "      <td>0.000000</td>\n",
       "    </tr>\n",
       "    <tr>\n",
       "      <th>2</th>\n",
       "      <td>XpVt6Z1Gjjo</td>\n",
       "      <td>Say hi to Kong and maverick for me</td>\n",
       "      <td>3</td>\n",
       "      <td>0</td>\n",
       "      <td>0.000000</td>\n",
       "    </tr>\n",
       "    <tr>\n",
       "      <th>3</th>\n",
       "      <td>XpVt6Z1Gjjo</td>\n",
       "      <td>MY FAN . attendance</td>\n",
       "      <td>3</td>\n",
       "      <td>0</td>\n",
       "      <td>0.000000</td>\n",
       "    </tr>\n",
       "    <tr>\n",
       "      <th>4</th>\n",
       "      <td>XpVt6Z1Gjjo</td>\n",
       "      <td>trending 😉</td>\n",
       "      <td>3</td>\n",
       "      <td>0</td>\n",
       "      <td>0.000000</td>\n",
       "    </tr>\n",
       "    <tr>\n",
       "      <th>5</th>\n",
       "      <td>XpVt6Z1Gjjo</td>\n",
       "      <td>#1 on trending AYYEEEEE</td>\n",
       "      <td>3</td>\n",
       "      <td>0</td>\n",
       "      <td>0.000000</td>\n",
       "    </tr>\n",
       "    <tr>\n",
       "      <th>6</th>\n",
       "      <td>XpVt6Z1Gjjo</td>\n",
       "      <td>The end though 😭👍🏻❤️</td>\n",
       "      <td>4</td>\n",
       "      <td>0</td>\n",
       "      <td>0.000000</td>\n",
       "    </tr>\n",
       "    <tr>\n",
       "      <th>7</th>\n",
       "      <td>XpVt6Z1Gjjo</td>\n",
       "      <td>#1 trending!!!!!!!!!</td>\n",
       "      <td>3</td>\n",
       "      <td>0</td>\n",
       "      <td>0.000000</td>\n",
       "    </tr>\n",
       "    <tr>\n",
       "      <th>8</th>\n",
       "      <td>XpVt6Z1Gjjo</td>\n",
       "      <td>Happy one year vlogaversary</td>\n",
       "      <td>3</td>\n",
       "      <td>0</td>\n",
       "      <td>0.800000</td>\n",
       "    </tr>\n",
       "    <tr>\n",
       "      <th>9</th>\n",
       "      <td>XpVt6Z1Gjjo</td>\n",
       "      <td>You and your shit brother may have single hand...</td>\n",
       "      <td>0</td>\n",
       "      <td>0</td>\n",
       "      <td>-0.135714</td>\n",
       "    </tr>\n",
       "    <tr>\n",
       "      <th>10</th>\n",
       "      <td>XpVt6Z1Gjjo</td>\n",
       "      <td>There should be a mini Logan Paul too!</td>\n",
       "      <td>0</td>\n",
       "      <td>0</td>\n",
       "      <td>0.000000</td>\n",
       "    </tr>\n",
       "    <tr>\n",
       "      <th>11</th>\n",
       "      <td>XpVt6Z1Gjjo</td>\n",
       "      <td>Dear Logan, I really wanna get your Merch but ...</td>\n",
       "      <td>0</td>\n",
       "      <td>0</td>\n",
       "      <td>0.200000</td>\n",
       "    </tr>\n",
       "    <tr>\n",
       "      <th>12</th>\n",
       "      <td>XpVt6Z1Gjjo</td>\n",
       "      <td>Honestly Evan is so annoying. Like its not fun...</td>\n",
       "      <td>0</td>\n",
       "      <td>0</td>\n",
       "      <td>-0.023333</td>\n",
       "    </tr>\n",
       "    <tr>\n",
       "      <th>13</th>\n",
       "      <td>XpVt6Z1Gjjo</td>\n",
       "      <td>Casey is still better then logan</td>\n",
       "      <td>0</td>\n",
       "      <td>0</td>\n",
       "      <td>0.500000</td>\n",
       "    </tr>\n",
       "    <tr>\n",
       "      <th>14</th>\n",
       "      <td>XpVt6Z1Gjjo</td>\n",
       "      <td>aw geez rick this guy is the face of YouTube.</td>\n",
       "      <td>0</td>\n",
       "      <td>0</td>\n",
       "      <td>0.000000</td>\n",
       "    </tr>\n",
       "  </tbody>\n",
       "</table>\n",
       "</div>"
      ],
      "text/plain": [
       "       video_id                                       comment_text likes  \\\n",
       "0   XpVt6Z1Gjjo                  Logan Paul it's yo big day ‼️‼️‼️     4   \n",
       "1   XpVt6Z1Gjjo  I've been following you from the start of your...     3   \n",
       "2   XpVt6Z1Gjjo                 Say hi to Kong and maverick for me     3   \n",
       "3   XpVt6Z1Gjjo                                MY FAN . attendance     3   \n",
       "4   XpVt6Z1Gjjo                                         trending 😉     3   \n",
       "5   XpVt6Z1Gjjo                            #1 on trending AYYEEEEE     3   \n",
       "6   XpVt6Z1Gjjo                               The end though 😭👍🏻❤️     4   \n",
       "7   XpVt6Z1Gjjo                               #1 trending!!!!!!!!!     3   \n",
       "8   XpVt6Z1Gjjo                        Happy one year vlogaversary     3   \n",
       "9   XpVt6Z1Gjjo  You and your shit brother may have single hand...     0   \n",
       "10  XpVt6Z1Gjjo             There should be a mini Logan Paul too!     0   \n",
       "11  XpVt6Z1Gjjo  Dear Logan, I really wanna get your Merch but ...     0   \n",
       "12  XpVt6Z1Gjjo  Honestly Evan is so annoying. Like its not fun...     0   \n",
       "13  XpVt6Z1Gjjo                   Casey is still better then logan     0   \n",
       "14  XpVt6Z1Gjjo      aw geez rick this guy is the face of YouTube.     0   \n",
       "\n",
       "   replies  polarity  \n",
       "0        0  0.000000  \n",
       "1        0  0.000000  \n",
       "2        0  0.000000  \n",
       "3        0  0.000000  \n",
       "4        0  0.000000  \n",
       "5        0  0.000000  \n",
       "6        0  0.000000  \n",
       "7        0  0.000000  \n",
       "8        0  0.800000  \n",
       "9        0 -0.135714  \n",
       "10       0  0.000000  \n",
       "11       0  0.200000  \n",
       "12       0 -0.023333  \n",
       "13       0  0.500000  \n",
       "14       0  0.000000  "
      ]
     },
     "execution_count": 21,
     "metadata": {},
     "output_type": "execute_result"
    }
   ],
   "source": [
    "df.head(15)"
   ]
  },
  {
   "cell_type": "code",
   "execution_count": 22,
   "id": "9d96e3fd",
   "metadata": {},
   "outputs": [],
   "source": [
    "### WorldCloud of your positive & negative sentence"
   ]
  },
  {
   "cell_type": "code",
   "execution_count": 23,
   "id": "bc803756",
   "metadata": {},
   "outputs": [],
   "source": [
    "comments_positive = df[df['polarity']==1]"
   ]
  },
  {
   "cell_type": "code",
   "execution_count": 24,
   "id": "8a5b1ac9",
   "metadata": {},
   "outputs": [],
   "source": [
    "comments_negative = df[df['polarity']==-1]"
   ]
  },
  {
   "cell_type": "code",
   "execution_count": null,
   "id": "066082e1",
   "metadata": {},
   "outputs": [],
   "source": []
  },
  {
   "cell_type": "markdown",
   "id": "70d2346f",
   "metadata": {},
   "source": [
    "df.head()"
   ]
  },
  {
   "cell_type": "code",
   "execution_count": 25,
   "id": "96d59614",
   "metadata": {},
   "outputs": [
    {
     "name": "stdout",
     "output_type": "stream",
     "text": [
      "Requirement already satisfied: wordcloud in c:\\python310\\lib\\site-packages (1.8.2.2)\n",
      "Requirement already satisfied: pillow in c:\\python310\\lib\\site-packages (from wordcloud) (9.2.0)\n",
      "Requirement already satisfied: matplotlib in c:\\python310\\lib\\site-packages (from wordcloud) (3.6.0)\n",
      "Requirement already satisfied: numpy>=1.6.1 in c:\\python310\\lib\\site-packages (from wordcloud) (1.23.3)\n",
      "Requirement already satisfied: contourpy>=1.0.1 in c:\\python310\\lib\\site-packages (from matplotlib->wordcloud) (1.0.5)\n",
      "Requirement already satisfied: fonttools>=4.22.0 in c:\\python310\\lib\\site-packages (from matplotlib->wordcloud) (4.37.4)\n",
      "Requirement already satisfied: cycler>=0.10 in c:\\python310\\lib\\site-packages (from matplotlib->wordcloud) (0.11.0)\n",
      "Requirement already satisfied: kiwisolver>=1.0.1 in c:\\python310\\lib\\site-packages (from matplotlib->wordcloud) (1.4.4)\n",
      "Requirement already satisfied: python-dateutil>=2.7 in c:\\users\\c08ri\\appdata\\roaming\\python\\python310\\site-packages (from matplotlib->wordcloud) (2.8.2)\n",
      "Requirement already satisfied: packaging>=20.0 in c:\\users\\c08ri\\appdata\\roaming\\python\\python310\\site-packages (from matplotlib->wordcloud) (21.3)\n",
      "Requirement already satisfied: pyparsing>=2.2.1 in c:\\users\\c08ri\\appdata\\roaming\\python\\python310\\site-packages (from matplotlib->wordcloud) (3.0.9)\n",
      "Requirement already satisfied: six>=1.5 in c:\\users\\c08ri\\appdata\\roaming\\python\\python310\\site-packages (from python-dateutil>=2.7->matplotlib->wordcloud) (1.16.0)\n"
     ]
    },
    {
     "name": "stderr",
     "output_type": "stream",
     "text": [
      "WARNING: Ignoring invalid distribution -ip (c:\\python310\\lib\\site-packages)\n",
      "WARNING: Ignoring invalid distribution - (c:\\python310\\lib\\site-packages)\n",
      "WARNING: Ignoring invalid distribution -ip (c:\\python310\\lib\\site-packages)\n",
      "WARNING: Ignoring invalid distribution - (c:\\python310\\lib\\site-packages)\n",
      "WARNING: Ignoring invalid distribution -ip (c:\\python310\\lib\\site-packages)\n",
      "WARNING: Ignoring invalid distribution - (c:\\python310\\lib\\site-packages)\n",
      "WARNING: Ignoring invalid distribution -ip (c:\\python310\\lib\\site-packages)\n",
      "WARNING: Ignoring invalid distribution - (c:\\python310\\lib\\site-packages)\n"
     ]
    }
   ],
   "source": [
    "!pip install wordcloud"
   ]
  },
  {
   "cell_type": "code",
   "execution_count": 26,
   "id": "88b7c6cc",
   "metadata": {},
   "outputs": [],
   "source": [
    "import nltk"
   ]
  },
  {
   "cell_type": "code",
   "execution_count": 27,
   "id": "ae185640",
   "metadata": {},
   "outputs": [
    {
     "name": "stdout",
     "output_type": "stream",
     "text": [
      "Collecting wordcloud==1.6.0\n",
      "  Using cached wordcloud-1.6.0.tar.gz (214 kB)\n",
      "  Preparing metadata (setup.py): started\n",
      "  Preparing metadata (setup.py): finished with status 'done'\n",
      "Requirement already satisfied: numpy>=1.6.1 in c:\\python310\\lib\\site-packages (from wordcloud==1.6.0) (1.23.3)\n",
      "Requirement already satisfied: pillow in c:\\python310\\lib\\site-packages (from wordcloud==1.6.0) (9.2.0)\n",
      "Requirement already satisfied: matplotlib in c:\\python310\\lib\\site-packages (from wordcloud==1.6.0) (3.6.0)\n",
      "Requirement already satisfied: fonttools>=4.22.0 in c:\\python310\\lib\\site-packages (from matplotlib->wordcloud==1.6.0) (4.37.4)\n",
      "Requirement already satisfied: packaging>=20.0 in c:\\users\\c08ri\\appdata\\roaming\\python\\python310\\site-packages (from matplotlib->wordcloud==1.6.0) (21.3)\n",
      "Requirement already satisfied: contourpy>=1.0.1 in c:\\python310\\lib\\site-packages (from matplotlib->wordcloud==1.6.0) (1.0.5)\n",
      "Requirement already satisfied: cycler>=0.10 in c:\\python310\\lib\\site-packages (from matplotlib->wordcloud==1.6.0) (0.11.0)\n",
      "Requirement already satisfied: kiwisolver>=1.0.1 in c:\\python310\\lib\\site-packages (from matplotlib->wordcloud==1.6.0) (1.4.4)\n",
      "Requirement already satisfied: pyparsing>=2.2.1 in c:\\users\\c08ri\\appdata\\roaming\\python\\python310\\site-packages (from matplotlib->wordcloud==1.6.0) (3.0.9)\n",
      "Requirement already satisfied: python-dateutil>=2.7 in c:\\users\\c08ri\\appdata\\roaming\\python\\python310\\site-packages (from matplotlib->wordcloud==1.6.0) (2.8.2)\n",
      "Requirement already satisfied: six>=1.5 in c:\\users\\c08ri\\appdata\\roaming\\python\\python310\\site-packages (from python-dateutil>=2.7->matplotlib->wordcloud==1.6.0) (1.16.0)\n",
      "Using legacy 'setup.py install' for wordcloud, since package 'wheel' is not installed.\n",
      "Installing collected packages: wordcloud\n",
      "  Attempting uninstall: wordcloud\n",
      "    Found existing installation: wordcloud 1.8.2.2\n",
      "    Uninstalling wordcloud-1.8.2.2:\n",
      "      Successfully uninstalled wordcloud-1.8.2.2\n",
      "  Running setup.py install for wordcloud: started\n",
      "  Running setup.py install for wordcloud: finished with status 'error'\n",
      "  Rolling back uninstall of wordcloud\n",
      "  Moving to c:\\python310\\lib\\site-packages\\wordcloud-1.8.2.2.dist-info\\\n",
      "   from C:\\Python310\\Lib\\site-packages\\~ordcloud-1.8.2.2.dist-info\n",
      "  Moving to c:\\python310\\lib\\site-packages\\wordcloud\\\n",
      "   from C:\\Python310\\Lib\\site-packages\\~ordcloud\n"
     ]
    },
    {
     "name": "stderr",
     "output_type": "stream",
     "text": [
      "WARNING: Ignoring invalid distribution -ip (c:\\python310\\lib\\site-packages)\n",
      "WARNING: Ignoring invalid distribution - (c:\\python310\\lib\\site-packages)\n",
      "WARNING: Ignoring invalid distribution -ip (c:\\python310\\lib\\site-packages)\n",
      "WARNING: Ignoring invalid distribution - (c:\\python310\\lib\\site-packages)\n",
      "WARNING: Ignoring invalid distribution -ip (c:\\python310\\lib\\site-packages)\n",
      "WARNING: Ignoring invalid distribution - (c:\\python310\\lib\\site-packages)\n",
      "    WARNING: Ignoring invalid distribution -ip (c:\\python310\\lib\\site-packages)\n",
      "    WARNING: Ignoring invalid distribution - (c:\\python310\\lib\\site-packages)\n",
      "  error: subprocess-exited-with-error\n",
      "  \n",
      "  Running setup.py install for wordcloud did not run successfully.\n",
      "  exit code: 1\n",
      "  \n",
      "  [22 lines of output]\n",
      "  running install\n",
      "  C:\\Python310\\lib\\site-packages\\setuptools\\command\\install.py:34: SetuptoolsDeprecationWarning: setup.py install is deprecated. Use build and pip and other standards-based tools.\n",
      "    warnings.warn(\n",
      "  running build\n",
      "  running build_py\n",
      "  creating build\n",
      "  creating build\\lib.win-amd64-cpython-310\n",
      "  creating build\\lib.win-amd64-cpython-310\\wordcloud\n",
      "  copying wordcloud\\color_from_image.py -> build\\lib.win-amd64-cpython-310\\wordcloud\n",
      "  copying wordcloud\\tokenization.py -> build\\lib.win-amd64-cpython-310\\wordcloud\n",
      "  copying wordcloud\\wordcloud.py -> build\\lib.win-amd64-cpython-310\\wordcloud\n",
      "  copying wordcloud\\wordcloud_cli.py -> build\\lib.win-amd64-cpython-310\\wordcloud\n",
      "  copying wordcloud\\_version.py -> build\\lib.win-amd64-cpython-310\\wordcloud\n",
      "  copying wordcloud\\__init__.py -> build\\lib.win-amd64-cpython-310\\wordcloud\n",
      "  copying wordcloud\\__main__.py -> build\\lib.win-amd64-cpython-310\\wordcloud\n",
      "  copying wordcloud\\stopwords -> build\\lib.win-amd64-cpython-310\\wordcloud\n",
      "  copying wordcloud\\DroidSansMono.ttf -> build\\lib.win-amd64-cpython-310\\wordcloud\n",
      "  UPDATING build\\lib.win-amd64-cpython-310\\wordcloud/_version.py\n",
      "  set build\\lib.win-amd64-cpython-310\\wordcloud/_version.py to '1.6.0'\n",
      "  running build_ext\n",
      "  building 'wordcloud.query_integral_image' extension\n",
      "  error: Microsoft Visual C++ 14.0 or greater is required. Get it with \"Microsoft C++ Build Tools\": https://visualstudio.microsoft.com/visual-cpp-build-tools/\n",
      "  [end of output]\n",
      "  \n",
      "  note: This error originates from a subprocess, and is likely not a problem with pip.\n",
      "error: legacy-install-failure\n",
      "\n",
      "Encountered error while trying to install package.\n",
      "\n",
      "wordcloud\n",
      "\n",
      "note: This is an issue with the package mentioned above, not pip.\n",
      "hint: See above for output from the failure.\n",
      "WARNING: Ignoring invalid distribution -ip (c:\\python310\\lib\\site-packages)\n",
      "WARNING: Ignoring invalid distribution - (c:\\python310\\lib\\site-packages)\n"
     ]
    }
   ],
   "source": [
    "!pip install wordcloud==1.6.0 \n"
   ]
  },
  {
   "cell_type": "code",
   "execution_count": 28,
   "id": "18572aba",
   "metadata": {},
   "outputs": [
    {
     "name": "stdout",
     "output_type": "stream",
     "text": [
      "c:\\python37\\python.exe\n"
     ]
    }
   ],
   "source": [
    "import sys\n",
    "print(sys.executable)"
   ]
  },
  {
   "cell_type": "code",
   "execution_count": 29,
   "id": "2a799255",
   "metadata": {},
   "outputs": [],
   "source": [
    "# from wordcloud import WordCloud,STOPWORDS\n",
    "# c:\\python37\\python.exe"
   ]
  },
  {
   "cell_type": "code",
   "execution_count": null,
   "id": "c9bcb72d",
   "metadata": {},
   "outputs": [],
   "source": []
  },
  {
   "cell_type": "code",
   "execution_count": 30,
   "id": "a12ae1ea",
   "metadata": {},
   "outputs": [],
   "source": [
    "# Total_comments = ''.join(comments_negative['comments.text'])"
   ]
  },
  {
   "cell_type": "code",
   "execution_count": 31,
   "id": "7fe11fda",
   "metadata": {},
   "outputs": [
    {
     "name": "stdout",
     "output_type": "stream",
     "text": [
      "Requirement already satisfied: wordcloud in c:\\python310\\lib\\site-packages (1.8.2.2)\n",
      "Requirement already satisfied: pillow in c:\\python310\\lib\\site-packages (from wordcloud) (9.2.0)\n",
      "Requirement already satisfied: matplotlib in c:\\python310\\lib\\site-packages (from wordcloud) (3.6.0)\n",
      "Requirement already satisfied: numpy>=1.6.1 in c:\\python310\\lib\\site-packages (from wordcloud) (1.23.3)\n",
      "Requirement already satisfied: fonttools>=4.22.0 in c:\\python310\\lib\\site-packages (from matplotlib->wordcloud) (4.37.4)\n",
      "Requirement already satisfied: python-dateutil>=2.7 in c:\\users\\c08ri\\appdata\\roaming\\python\\python310\\site-packages (from matplotlib->wordcloud) (2.8.2)\n",
      "Requirement already satisfied: contourpy>=1.0.1 in c:\\python310\\lib\\site-packages (from matplotlib->wordcloud) (1.0.5)\n",
      "Requirement already satisfied: pyparsing>=2.2.1 in c:\\users\\c08ri\\appdata\\roaming\\python\\python310\\site-packages (from matplotlib->wordcloud) (3.0.9)\n",
      "Requirement already satisfied: kiwisolver>=1.0.1 in c:\\python310\\lib\\site-packages (from matplotlib->wordcloud) (1.4.4)\n",
      "Requirement already satisfied: cycler>=0.10 in c:\\python310\\lib\\site-packages (from matplotlib->wordcloud) (0.11.0)\n",
      "Requirement already satisfied: packaging>=20.0 in c:\\users\\c08ri\\appdata\\roaming\\python\\python310\\site-packages (from matplotlib->wordcloud) (21.3)\n",
      "Requirement already satisfied: six>=1.5 in c:\\users\\c08ri\\appdata\\roaming\\python\\python310\\site-packages (from python-dateutil>=2.7->matplotlib->wordcloud) (1.16.0)\n"
     ]
    },
    {
     "name": "stderr",
     "output_type": "stream",
     "text": [
      "WARNING: Ignoring invalid distribution -ip (c:\\python310\\lib\\site-packages)\n",
      "WARNING: Ignoring invalid distribution - (c:\\python310\\lib\\site-packages)\n",
      "WARNING: Ignoring invalid distribution -ip (c:\\python310\\lib\\site-packages)\n",
      "WARNING: Ignoring invalid distribution - (c:\\python310\\lib\\site-packages)\n",
      "WARNING: Ignoring invalid distribution -ip (c:\\python310\\lib\\site-packages)\n",
      "WARNING: Ignoring invalid distribution - (c:\\python310\\lib\\site-packages)\n",
      "WARNING: Ignoring invalid distribution -ip (c:\\python310\\lib\\site-packages)\n",
      "WARNING: Ignoring invalid distribution - (c:\\python310\\lib\\site-packages)\n"
     ]
    }
   ],
   "source": [
    "!pip install wordcloud"
   ]
  },
  {
   "cell_type": "code",
   "execution_count": 32,
   "id": "6f5d49eb",
   "metadata": {},
   "outputs": [],
   "source": [
    "from wordcloud import WordCloud"
   ]
  },
  {
   "cell_type": "code",
   "execution_count": 33,
   "id": "21268035",
   "metadata": {},
   "outputs": [
    {
     "name": "stdout",
     "output_type": "stream",
     "text": [
      "c:\\python37\\python.exe\n"
     ]
    }
   ],
   "source": [
    "import sys\n",
    "print(sys.executable)"
   ]
  },
  {
   "cell_type": "code",
   "execution_count": 34,
   "id": "68383287",
   "metadata": {},
   "outputs": [],
   "source": [
    "# c:\\python37\\python.exe -m pip install wordcloud"
   ]
  },
  {
   "cell_type": "code",
   "execution_count": 35,
   "id": "f313389e",
   "metadata": {},
   "outputs": [
    {
     "name": "stdout",
     "output_type": "stream",
     "text": [
      "Requirement already satisfied: wordcloud in c:\\python37\\lib\\site-packages (1.8.2.2)\n",
      "Requirement already satisfied: numpy>=1.6.1 in c:\\python37\\lib\\site-packages (from wordcloud) (1.21.2)\n",
      "Requirement already satisfied: matplotlib in c:\\python37\\lib\\site-packages (from wordcloud) (3.4.3)\n",
      "Requirement already satisfied: pillow in c:\\python37\\lib\\site-packages (from wordcloud) (8.4.0)\n",
      "Requirement already satisfied: kiwisolver>=1.0.1 in c:\\python37\\lib\\site-packages (from matplotlib->wordcloud) (1.3.2)\n",
      "Requirement already satisfied: python-dateutil>=2.7 in c:\\python37\\lib\\site-packages (from matplotlib->wordcloud) (2.8.1)\n",
      "Requirement already satisfied: cycler>=0.10 in c:\\python37\\lib\\site-packages (from matplotlib->wordcloud) (0.10.0)\n",
      "Requirement already satisfied: pyparsing>=2.2.1 in c:\\python37\\lib\\site-packages (from matplotlib->wordcloud) (2.4.7)\n",
      "Requirement already satisfied: six in c:\\python37\\lib\\site-packages (from cycler>=0.10->matplotlib->wordcloud) (1.16.0)\n",
      "Note: you may need to restart the kernel to use updated packages.\n"
     ]
    },
    {
     "name": "stderr",
     "output_type": "stream",
     "text": [
      "WARNING: You are using pip version 21.3.1; however, version 22.2.2 is available.\n",
      "You should consider upgrading via the 'c:\\python37\\python.exe -m pip install --upgrade pip' command.\n"
     ]
    }
   ],
   "source": [
    "pip install wordcloud"
   ]
  },
  {
   "cell_type": "code",
   "execution_count": 36,
   "id": "c69ce0da",
   "metadata": {},
   "outputs": [],
   "source": [
    "import wordcloud"
   ]
  },
  {
   "cell_type": "code",
   "execution_count": 37,
   "id": "208c8b1c",
   "metadata": {},
   "outputs": [],
   "source": [
    "from wordcloud import WordCloud,STOPWORDS"
   ]
  },
  {
   "cell_type": "code",
   "execution_count": 38,
   "id": "3d2b0c14",
   "metadata": {},
   "outputs": [
    {
     "data": {
      "text/plain": [
       "512     BEN CARSON IS THE MAN!!!!! THEY HATE HIM CAUSE...\n",
       "562     Well… The brain surgeon Ben Carson just proved...\n",
       "952            WHY DID YOU MAKE FURRY FORCE?! SO NASTY!!!\n",
       "1371                                       WTF BRUH!!!!!!\n",
       "1391                      cheeseus christ thats insane!!!\n",
       "1932            this is the worst thing i've heard. ever.\n",
       "2043    Economy is horrible in Cuba. It's going to be ...\n",
       "2088                        Sub to me if this is terrible\n",
       "2192                                             PATHETIC\n",
       "2410    I don't like this sportscaster  sounds very an...\n",
       "Name: comment_text, dtype: object"
      ]
     },
     "execution_count": 38,
     "metadata": {},
     "output_type": "execute_result"
    }
   ],
   "source": [
    "comments_negative['comment_text'].head(10)"
   ]
  },
  {
   "cell_type": "code",
   "execution_count": 39,
   "id": "b54f48ea",
   "metadata": {},
   "outputs": [],
   "source": [
    "totalc_comments = ' '.join(comments_negative['comment_text'])"
   ]
  },
  {
   "cell_type": "code",
   "execution_count": 40,
   "id": "50a79f09",
   "metadata": {},
   "outputs": [
    {
     "data": {
      "text/plain": [
       "\"BEN CARSON IS THE MAN!!!!! THEY HATE HIM CAUSE HE EXPOSED HITLARY'S RITUAL ABUSE ON CHILDREN!!!!!!! Well… The brain surgeon Ben Carson just proved how truly insane he is… WHY DID YOU MAKE FURRY FORCE?! SO NASTY!!! WTF BRUH!!!!!! cheeseus christ thats insane!!! this is the worst thing i've heard. ever. Economy is horrible in Cuba. It's going to be years before they get out of this. Sub to me if this is terrible PATHETIC I don't like this sportscaster  sounds very annoying commentators are awful This tv show became trump witch hunt tube... and frankly, boring. Arpaio should be arrested again for horribly butchering that song. This  show has become one-noted and pathetic. HARD CANDY!!!!!!!!!!! Tired of the philosophy add !!!!!!! boring 0:22   **laughs at terrible pun** Why is media even covering this disgusting woman anymore? How is this trending ? Awful a horrible attempt to try and get us to freak out this is one of the worst videos I've ever seen Whats with the horrible music? tf She is the worst. Boring boring Pls make star vs the forces of evil cookies or cake😛Pls... Oliver is an idiot! I won't read this comment. What a Dick I am, I can't believe I just read this. I am pathetic! Terrible They got the worst brand of honey soy chips 😂 Please let this die, you can tell the actors are miserable. can't wait :'( Don't be bringing cucumbers to the theaters this time!! You know who you are, ya nasty OMG...he's Stephen FUCKING Hawkings !!!!   (sarcasm: off) Does Tommy knows that he'\""
      ]
     },
     "execution_count": 40,
     "metadata": {},
     "output_type": "execute_result"
    }
   ],
   "source": [
    "totalc_comments[0:1500]"
   ]
  },
  {
   "cell_type": "raw",
   "id": "db712b89",
   "metadata": {},
   "source": []
  },
  {
   "cell_type": "code",
   "execution_count": 41,
   "id": "40db1d92",
   "metadata": {},
   "outputs": [],
   "source": [
    "wcloud = WordCloud(stopwords = set(STOPWORDS)).generate(totalc_comments)"
   ]
  },
  {
   "cell_type": "code",
   "execution_count": 42,
   "id": "850f89d6",
   "metadata": {},
   "outputs": [
    {
     "data": {
      "text/plain": [
       "<wordcloud.wordcloud.WordCloud at 0x1f75d378470>"
      ]
     },
     "execution_count": 42,
     "metadata": {},
     "output_type": "execute_result"
    }
   ],
   "source": [
    "wcloud"
   ]
  },
  {
   "cell_type": "code",
   "execution_count": 43,
   "id": "89cdf4fe",
   "metadata": {},
   "outputs": [
    {
     "data": {
      "text/plain": [
       "(-0.5, 399.5, 199.5, -0.5)"
      ]
     },
     "execution_count": 43,
     "metadata": {},
     "output_type": "execute_result"
    },
    {
     "data": {
      "image/png": "[encoded data removed]",
      "text/plain": [
       "<Figure size 1080x360 with 1 Axes>"
      ]
     },
     "metadata": {
      "needs_background": "light"
     },
     "output_type": "display_data"
    }
   ],
   "source": [
    "# wcloud = WordCloud(stopwords = set(STOPWORDS)).generate(totalc_comments)\n",
    "# s = \"When using bracket notation for character access, attempting to delete or assign a value to these properties will not succeed. The properties involved are neither writable nor configurable\"\n",
    "# xcloud = WordCloud(stopwords = set(STOPWORDS)).generate(s)\n",
    "plt.figure(figsize=(15,5))\n",
    "plt.imshow(wcloud)\n",
    "plt.axis('off')"
   ]
  },
  {
   "cell_type": "code",
   "execution_count": 44,
   "id": "9ddb7ba6",
   "metadata": {},
   "outputs": [],
   "source": [
    "totalc_comments2 = ' '.join(comments_positive['comment_text'])"
   ]
  },
  {
   "cell_type": "code",
   "execution_count": 45,
   "id": "52332e23",
   "metadata": {},
   "outputs": [
    {
     "data": {
      "text/plain": [
       "(-0.5, 399.5, 199.5, -0.5)"
      ]
     },
     "execution_count": 45,
     "metadata": {},
     "output_type": "execute_result"
    },
    {
     "data": {
      "image/png": "[encoded data removed]",
      "text/plain": [
       "<Figure size 1080x360 with 1 Axes>"
      ]
     },
     "metadata": {
      "needs_background": "light"
     },
     "output_type": "display_data"
    }
   ],
   "source": [
    "pcloud = WordCloud(stopwords = set(STOPWORDS)).generate(totalc_comments2)\n",
    "plt.figure(figsize=(15,5))\n",
    "plt.imshow(pcloud)\n",
    "plt.axis('off')"
   ]
  },
  {
   "cell_type": "code",
   "execution_count": 46,
   "id": "ccb6aa06",
   "metadata": {},
   "outputs": [],
   "source": [
    "###....Lets perform Emoji's Analysis\n"
   ]
  },
  {
   "cell_type": "code",
   "execution_count": 47,
   "id": "67c475cd",
   "metadata": {},
   "outputs": [
    {
     "name": "stdout",
     "output_type": "stream",
     "text": [
      "Requirement already satisfied: emoji in c:\\python310\\lib\\site-packages (2.1.0)\n"
     ]
    },
    {
     "name": "stderr",
     "output_type": "stream",
     "text": [
      "WARNING: Ignoring invalid distribution -ip (c:\\python310\\lib\\site-packages)\n",
      "WARNING: Ignoring invalid distribution - (c:\\python310\\lib\\site-packages)\n",
      "WARNING: Ignoring invalid distribution -ip (c:\\python310\\lib\\site-packages)\n",
      "WARNING: Ignoring invalid distribution - (c:\\python310\\lib\\site-packages)\n",
      "WARNING: Ignoring invalid distribution -ip (c:\\python310\\lib\\site-packages)\n",
      "WARNING: Ignoring invalid distribution - (c:\\python310\\lib\\site-packages)\n",
      "WARNING: Ignoring invalid distribution -ip (c:\\python310\\lib\\site-packages)\n",
      "WARNING: Ignoring invalid distribution - (c:\\python310\\lib\\site-packages)\n"
     ]
    }
   ],
   "source": [
    "!pip install emoji"
   ]
  },
  {
   "cell_type": "code",
   "execution_count": 48,
   "id": "8ac1fe46",
   "metadata": {},
   "outputs": [
    {
     "name": "stdout",
     "output_type": "stream",
     "text": [
      "😀\n"
     ]
    }
   ],
   "source": [
    "print('\\U0001F600')"
   ]
  },
  {
   "cell_type": "code",
   "execution_count": 50,
   "id": "c999b0f2",
   "metadata": {},
   "outputs": [
    {
     "name": "stdout",
     "output_type": "stream",
     "text": [
      "Requirement already satisfied: emoji in c:\\python37\\lib\\site-packages (2.1.0)\n",
      "Note: you may need to restart the kernel to use updated packages.\n"
     ]
    },
    {
     "name": "stderr",
     "output_type": "stream",
     "text": [
      "WARNING: You are using pip version 21.3.1; however, version 22.2.2 is available.\n",
      "You should consider upgrading via the 'c:\\python37\\python.exe -m pip install --upgrade pip' command.\n"
     ]
    }
   ],
   "source": [
    "pip install emoji"
   ]
  },
  {
   "cell_type": "code",
   "execution_count": 58,
   "id": "96db0bb2",
   "metadata": {},
   "outputs": [
    {
     "name": "stdout",
     "output_type": "stream",
     "text": [
      "Python👍\n"
     ]
    }
   ],
   "source": [
    "import emoji\n",
    "print(emoji.emojize('Python:thumbs_up:'))\n"
   ]
  },
  {
   "cell_type": "code",
   "execution_count": 65,
   "id": "dbb7374f",
   "metadata": {},
   "outputs": [],
   "source": [
    "# emoji_list=[]\n",
    "# for comment in df['comment_text']:\n",
    "#     for char in comment:\n",
    "#         if char in emoji.UNICODE_EMOJI_ENGLISH:\n",
    "#             emoji_list.append(char)"
   ]
  },
  {
   "cell_type": "code",
   "execution_count": 66,
   "id": "0a034084",
   "metadata": {},
   "outputs": [],
   "source": [
    "# comment='trending 😉'\n",
    "# [c for c in comment if c in emoji.UNICODE_EMOJI['en']]\n",
    "# [c for c in comment if c in emoji.UNICODE_EMOJI_ENGLISH]"
   ]
  },
  {
   "cell_type": "code",
   "execution_count": 72,
   "id": "381c0298",
   "metadata": {},
   "outputs": [],
   "source": [
    "# emoji_list=[]\n",
    "# for comment in df['comment_text']:\n",
    "#     for char in comment:\n",
    "#         if char in emoji.UNICODE_EMOJI_ENGLISH:\n",
    "#             emoji_list.append(char)"
   ]
  },
  {
   "cell_type": "code",
   "execution_count": 70,
   "id": "93902546",
   "metadata": {},
   "outputs": [],
   "source": [
    "# emoji_list[0:10]"
   ]
  },
  {
   "cell_type": "code",
   "execution_count": 71,
   "id": "78d18a06",
   "metadata": {},
   "outputs": [],
   "source": [
    "# from collections import Counter\n",
    "# Counter(emoji_list).most_common(10)\n",
    "# Counter(emoji_list).most_common(10)[0][0]\n",
    "# emojis=[Counter(emoji_list).most_common(10)[i][0] for i in range(10)]\n",
    "# emojis"
   ]
  },
  {
   "cell_type": "code",
   "execution_count": 73,
   "id": "2f17db3e",
   "metadata": {},
   "outputs": [],
   "source": [
    "# freqs=[Counter(emoji_list).most_common(10)[i][1] for i in range(10)]"
   ]
  },
  {
   "cell_type": "code",
   "execution_count": 76,
   "id": "6304a3d8",
   "metadata": {},
   "outputs": [
    {
     "name": "stdout",
     "output_type": "stream",
     "text": [
      "Requirement already satisfied: plotly in c:\\python310\\lib\\site-packages (5.10.0)\n",
      "Requirement already satisfied: tenacity>=6.2.0 in c:\\python310\\lib\\site-packages (from plotly) (8.1.0)\n"
     ]
    },
    {
     "name": "stderr",
     "output_type": "stream",
     "text": [
      "WARNING: Ignoring invalid distribution -ip (c:\\python310\\lib\\site-packages)\n",
      "WARNING: Ignoring invalid distribution - (c:\\python310\\lib\\site-packages)\n",
      "WARNING: Ignoring invalid distribution -ip (c:\\python310\\lib\\site-packages)\n",
      "WARNING: Ignoring invalid distribution - (c:\\python310\\lib\\site-packages)\n",
      "WARNING: Ignoring invalid distribution -ip (c:\\python310\\lib\\site-packages)\n",
      "WARNING: Ignoring invalid distribution - (c:\\python310\\lib\\site-packages)\n",
      "WARNING: Ignoring invalid distribution -ip (c:\\python310\\lib\\site-packages)\n",
      "WARNING: Ignoring invalid distribution - (c:\\python310\\lib\\site-packages)\n"
     ]
    }
   ],
   "source": [
    "!pip install plotly"
   ]
  },
  {
   "cell_type": "code",
   "execution_count": 85,
   "id": "54170cc0",
   "metadata": {},
   "outputs": [],
   "source": [
    "# import plotly"
   ]
  },
  {
   "cell_type": "code",
   "execution_count": 84,
   "id": "f6e5213a",
   "metadata": {},
   "outputs": [],
   "source": [
    "# from plotly.offline import iplot"
   ]
  },
  {
   "cell_type": "code",
   "execution_count": 86,
   "id": "f5fa3294",
   "metadata": {},
   "outputs": [],
   "source": [
    "# !pip install plotly==5.10.0"
   ]
  },
  {
   "cell_type": "code",
   "execution_count": 87,
   "id": "229edd46",
   "metadata": {},
   "outputs": [],
   "source": [
    "# from plotly.offline import iplot"
   ]
  },
  {
   "cell_type": "code",
   "execution_count": 88,
   "id": "f3741c1a",
   "metadata": {},
   "outputs": [],
   "source": [
    "# trace=go.Bar(x=emojis,y=freqs)"
   ]
  },
  {
   "cell_type": "code",
   "execution_count": null,
   "id": "506ff7d1",
   "metadata": {},
   "outputs": [],
   "source": [
    "# iplot([trace])"
   ]
  },
  {
   "cell_type": "code",
   "execution_count": 90,
   "id": "ade9eb61",
   "metadata": {},
   "outputs": [],
   "source": [
    "### Collect Entire data of youtube!"
   ]
  },
  {
   "cell_type": "code",
   "execution_count": 91,
   "id": "724944d3",
   "metadata": {},
   "outputs": [],
   "source": [
    "import os"
   ]
  },
  {
   "cell_type": "code",
   "execution_count": 92,
   "id": "a3754d68",
   "metadata": {},
   "outputs": [],
   "source": [
    "path =r'C:\\Users\\c08ri\\Downloads\\Youtube_project_shan_singh\\Youtube_project_shan_singh\\additional_data'"
   ]
  },
  {
   "cell_type": "code",
   "execution_count": 93,
   "id": "16187bbe",
   "metadata": {},
   "outputs": [],
   "source": [
    "files=os.listdir(path)"
   ]
  },
  {
   "cell_type": "code",
   "execution_count": 94,
   "id": "ba61b328",
   "metadata": {},
   "outputs": [
    {
     "data": {
      "text/plain": [
       "['CAvideos.csv',\n",
       " 'CA_category_id.json',\n",
       " 'DEvideos.csv',\n",
       " 'DE_category_id.json',\n",
       " 'FRvideos.csv',\n",
       " 'FR_category_id.json',\n",
       " 'GBvideos.csv',\n",
       " 'GB_category_id.json',\n",
       " 'INvideos.csv',\n",
       " 'IN_category_id.json',\n",
       " 'JPvideos.csv',\n",
       " 'JP_category_id.json',\n",
       " 'KRvideos.csv',\n",
       " 'KR_category_id.json',\n",
       " 'MXvideos.csv',\n",
       " 'MX_category_id.json',\n",
       " 'RUvideos.csv',\n",
       " 'RU_category_id.json',\n",
       " 'USvideos.csv',\n",
       " 'US_category_id.json']"
      ]
     },
     "execution_count": 94,
     "metadata": {},
     "output_type": "execute_result"
    }
   ],
   "source": [
    "files"
   ]
  },
  {
   "cell_type": "code",
   "execution_count": 95,
   "id": "64801a11",
   "metadata": {},
   "outputs": [
    {
     "name": "stdout",
     "output_type": "stream",
     "text": [
      "1\n",
      "3\n",
      "5\n",
      "7\n",
      "9\n",
      "11\n",
      "13\n",
      "15\n",
      "17\n",
      "19\n"
     ]
    }
   ],
   "source": [
    "for i in range(1,len(files),2):\n",
    "    print(i)"
   ]
  },
  {
   "cell_type": "code",
   "execution_count": 96,
   "id": "ea6207c6",
   "metadata": {},
   "outputs": [],
   "source": [
    "files_csv = [files[i] for i in range(0,len(files),2)]"
   ]
  },
  {
   "cell_type": "code",
   "execution_count": 97,
   "id": "85870c99",
   "metadata": {},
   "outputs": [
    {
     "data": {
      "text/plain": [
       "['CAvideos.csv',\n",
       " 'DEvideos.csv',\n",
       " 'FRvideos.csv',\n",
       " 'GBvideos.csv',\n",
       " 'INvideos.csv',\n",
       " 'JPvideos.csv',\n",
       " 'KRvideos.csv',\n",
       " 'MXvideos.csv',\n",
       " 'RUvideos.csv',\n",
       " 'USvideos.csv']"
      ]
     },
     "execution_count": 97,
     "metadata": {},
     "output_type": "execute_result"
    }
   ],
   "source": [
    "files_csv"
   ]
  },
  {
   "cell_type": "code",
   "execution_count": 99,
   "id": "c76300af",
   "metadata": {},
   "outputs": [
    {
     "data": {
      "text/plain": [
       "'CA'"
      ]
     },
     "execution_count": 99,
     "metadata": {},
     "output_type": "execute_result"
    }
   ],
   "source": [
    "files_csv[0].split('.')[0][0:2]"
   ]
  },
  {
   "cell_type": "code",
   "execution_count": 100,
   "id": "786cef35",
   "metadata": {},
   "outputs": [],
   "source": [
    "full_df=pd.DataFrame()\n",
    "\n",
    "for file in files_csv:\n",
    "    current_df=pd.read_csv(path+'/'+file,encoding='iso-8859-1',error_bad_lines=False)\n",
    "    \n",
    "    current_df['country']=file.split('.')[0][0:2]\n",
    "    full_df=pd.concat([full_df,current_df])\n",
    "    "
   ]
  },
  {
   "cell_type": "code",
   "execution_count": 103,
   "id": "c512ff97",
   "metadata": {},
   "outputs": [
    {
     "data": {
      "text/html": [
       "<div>\n",
       "<style scoped>\n",
       "    .dataframe tbody tr th:only-of-type {\n",
       "        vertical-align: middle;\n",
       "    }\n",
       "\n",
       "    .dataframe tbody tr th {\n",
       "        vertical-align: top;\n",
       "    }\n",
       "\n",
       "    .dataframe thead th {\n",
       "        text-align: right;\n",
       "    }\n",
       "</style>\n",
       "<table border=\"1\" class=\"dataframe\">\n",
       "  <thead>\n",
       "    <tr style=\"text-align: right;\">\n",
       "      <th></th>\n",
       "      <th>video_id</th>\n",
       "      <th>trending_date</th>\n",
       "      <th>title</th>\n",
       "      <th>channel_title</th>\n",
       "      <th>category_id</th>\n",
       "      <th>publish_time</th>\n",
       "      <th>tags</th>\n",
       "      <th>views</th>\n",
       "      <th>likes</th>\n",
       "      <th>dislikes</th>\n",
       "      <th>comment_count</th>\n",
       "      <th>thumbnail_link</th>\n",
       "      <th>comments_disabled</th>\n",
       "      <th>ratings_disabled</th>\n",
       "      <th>video_error_or_removed</th>\n",
       "      <th>description</th>\n",
       "      <th>country</th>\n",
       "    </tr>\n",
       "  </thead>\n",
       "  <tbody>\n",
       "    <tr>\n",
       "      <th>40935</th>\n",
       "      <td>2in8XqiElwc</td>\n",
       "      <td>18.14.06</td>\n",
       "      <td>Nicki Minaj - Chun-Li (Live on SNL / 2018)</td>\n",
       "      <td>NickiMinajAtVEVO</td>\n",
       "      <td>10</td>\n",
       "      <td>2018-05-20T07:53:59.000Z</td>\n",
       "      <td>Nicki Minaj new music|\"Nicki Minaj Queen\"|\"Nic...</td>\n",
       "      <td>4945185</td>\n",
       "      <td>189265</td>\n",
       "      <td>9406</td>\n",
       "      <td>18683</td>\n",
       "      <td>https://i.ytimg.com/vi/2in8XqiElwc/default.jpg</td>\n",
       "      <td>False</td>\n",
       "      <td>False</td>\n",
       "      <td>False</td>\n",
       "      <td>Chun-Li (Live on SNL / 2018)Song Available Her...</td>\n",
       "      <td>US</td>\n",
       "    </tr>\n",
       "    <tr>\n",
       "      <th>40936</th>\n",
       "      <td>Xr2rgT9uEnA</td>\n",
       "      <td>18.14.06</td>\n",
       "      <td>LIE DETECTOR TEST WITH MY GIRLFRIEND!</td>\n",
       "      <td>miniminter</td>\n",
       "      <td>20</td>\n",
       "      <td>2018-05-20T18:00:02.000Z</td>\n",
       "      <td>miniminter|\"mm7games\"|\"simon\"|\"random\"|\"lie de...</td>\n",
       "      <td>3229540</td>\n",
       "      <td>109945</td>\n",
       "      <td>3062</td>\n",
       "      <td>6774</td>\n",
       "      <td>https://i.ytimg.com/vi/Xr2rgT9uEnA/default.jpg</td>\n",
       "      <td>False</td>\n",
       "      <td>False</td>\n",
       "      <td>False</td>\n",
       "      <td>Talia: https://www.youtube.com/user/nataliahad...</td>\n",
       "      <td>US</td>\n",
       "    </tr>\n",
       "    <tr>\n",
       "      <th>40937</th>\n",
       "      <td>v7H_Or9Nr5I</td>\n",
       "      <td>18.14.06</td>\n",
       "      <td>Lucas the Spider - Giant Spider</td>\n",
       "      <td>Lucas the Spider</td>\n",
       "      <td>1</td>\n",
       "      <td>2018-05-19T14:52:43.000Z</td>\n",
       "      <td>LucastheSpider|\"Animation\"|\"3D Animation\"|\"Cute\"</td>\n",
       "      <td>8300584</td>\n",
       "      <td>266267</td>\n",
       "      <td>4237</td>\n",
       "      <td>14617</td>\n",
       "      <td>https://i.ytimg.com/vi/v7H_Or9Nr5I/default.jpg</td>\n",
       "      <td>False</td>\n",
       "      <td>False</td>\n",
       "      <td>False</td>\n",
       "      <td>Lucas is a tiny spider to some...giant arachni...</td>\n",
       "      <td>US</td>\n",
       "    </tr>\n",
       "    <tr>\n",
       "      <th>40938</th>\n",
       "      <td>n_W54baizX8</td>\n",
       "      <td>18.14.06</td>\n",
       "      <td>Daddy Yankee - Hielo (Video Oficial)</td>\n",
       "      <td>Daddy Yankee</td>\n",
       "      <td>10</td>\n",
       "      <td>2018-05-18T14:00:04.000Z</td>\n",
       "      <td>daddy yankee reggaeton|\"daddy yankee youtube\"|...</td>\n",
       "      <td>41803845</td>\n",
       "      <td>628861</td>\n",
       "      <td>42833</td>\n",
       "      <td>39363</td>\n",
       "      <td>https://i.ytimg.com/vi/n_W54baizX8/default.jpg</td>\n",
       "      <td>False</td>\n",
       "      <td>False</td>\n",
       "      <td>False</td>\n",
       "      <td>Daddy Yankee - Hielo (Video Oficial)Spotify: h...</td>\n",
       "      <td>US</td>\n",
       "    </tr>\n",
       "    <tr>\n",
       "      <th>40939</th>\n",
       "      <td>pcJo0tIWybY</td>\n",
       "      <td>18.14.06</td>\n",
       "      <td>SZA - Garden (Say It Like Dat) (Official Video)</td>\n",
       "      <td>SZAVEVO</td>\n",
       "      <td>10</td>\n",
       "      <td>2018-05-18T14:00:04.000Z</td>\n",
       "      <td>Garden (Say It Like Dat)|\"R&amp;B\"|\"SZA\"|\"Top Dawg...</td>\n",
       "      <td>6004782</td>\n",
       "      <td>210802</td>\n",
       "      <td>4166</td>\n",
       "      <td>15169</td>\n",
       "      <td>https://i.ytimg.com/vi/pcJo0tIWybY/default.jpg</td>\n",
       "      <td>False</td>\n",
       "      <td>False</td>\n",
       "      <td>False</td>\n",
       "      <td>SZA's CTRL available on:Apple Music - http://s...</td>\n",
       "      <td>US</td>\n",
       "    </tr>\n",
       "    <tr>\n",
       "      <th>40940</th>\n",
       "      <td>_QWZvU7VCn8</td>\n",
       "      <td>18.14.06</td>\n",
       "      <td>Brad Pitt Bid $120k For A Night With Emilia Cl...</td>\n",
       "      <td>The Graham Norton Show</td>\n",
       "      <td>24</td>\n",
       "      <td>2018-05-18T17:13:08.000Z</td>\n",
       "      <td>Graham Norton|\"Graham Norton Show Official\"|\"E...</td>\n",
       "      <td>5564576</td>\n",
       "      <td>46351</td>\n",
       "      <td>2295</td>\n",
       "      <td>2861</td>\n",
       "      <td>https://i.ytimg.com/vi/_QWZvU7VCn8/default.jpg</td>\n",
       "      <td>False</td>\n",
       "      <td>False</td>\n",
       "      <td>False</td>\n",
       "      <td>Check out all that Emilia Clarke merch... Subs...</td>\n",
       "      <td>US</td>\n",
       "    </tr>\n",
       "    <tr>\n",
       "      <th>40941</th>\n",
       "      <td>7UoP9ABJXGE</td>\n",
       "      <td>18.14.06</td>\n",
       "      <td>Dan + Shay - Speechless (Wedding Video)</td>\n",
       "      <td>Dan And Shay</td>\n",
       "      <td>10</td>\n",
       "      <td>2018-05-18T04:04:58.000Z</td>\n",
       "      <td>wedding video|\"heartfelt wedding video\"|\"emoti...</td>\n",
       "      <td>5534278</td>\n",
       "      <td>45128</td>\n",
       "      <td>1591</td>\n",
       "      <td>806</td>\n",
       "      <td>https://i.ytimg.com/vi/7UoP9ABJXGE/default.jpg</td>\n",
       "      <td>False</td>\n",
       "      <td>False</td>\n",
       "      <td>False</td>\n",
       "      <td>Stream + Download:https://wmna.sh/speechlessht...</td>\n",
       "      <td>US</td>\n",
       "    </tr>\n",
       "    <tr>\n",
       "      <th>40942</th>\n",
       "      <td>ju_inUnrLc4</td>\n",
       "      <td>18.14.06</td>\n",
       "      <td>Fifth Harmony - Don't Say You Love Me</td>\n",
       "      <td>FifthHarmonyVEVO</td>\n",
       "      <td>10</td>\n",
       "      <td>2018-05-18T07:00:08.000Z</td>\n",
       "      <td>fifth hamony|\"harmonizers\"|\"lauren\"|\"ally\"|\"no...</td>\n",
       "      <td>23502572</td>\n",
       "      <td>676467</td>\n",
       "      <td>15993</td>\n",
       "      <td>52432</td>\n",
       "      <td>https://i.ytimg.com/vi/ju_inUnrLc4/default.jpg</td>\n",
       "      <td>False</td>\n",
       "      <td>False</td>\n",
       "      <td>False</td>\n",
       "      <td>Fifth Harmony available at iTunes http://smart...</td>\n",
       "      <td>US</td>\n",
       "    </tr>\n",
       "    <tr>\n",
       "      <th>40943</th>\n",
       "      <td>1PhPYr_9zRY</td>\n",
       "      <td>18.14.06</td>\n",
       "      <td>BTS Plays With Puppies While Answering Fan Que...</td>\n",
       "      <td>BuzzFeed Celeb</td>\n",
       "      <td>22</td>\n",
       "      <td>2018-05-18T16:39:29.000Z</td>\n",
       "      <td>BuzzFeed|\"BuzzFeedVideo\"|\"Puppy Interview\"|\"pu...</td>\n",
       "      <td>8259128</td>\n",
       "      <td>645888</td>\n",
       "      <td>4052</td>\n",
       "      <td>62610</td>\n",
       "      <td>https://i.ytimg.com/vi/1PhPYr_9zRY/default.jpg</td>\n",
       "      <td>False</td>\n",
       "      <td>False</td>\n",
       "      <td>False</td>\n",
       "      <td>BTS with the PPS, the puppies. These adorable ...</td>\n",
       "      <td>US</td>\n",
       "    </tr>\n",
       "    <tr>\n",
       "      <th>40944</th>\n",
       "      <td>BZt0qjTWNhw</td>\n",
       "      <td>18.14.06</td>\n",
       "      <td>The Cat Who Caught the Laser</td>\n",
       "      <td>AaronsAnimals</td>\n",
       "      <td>15</td>\n",
       "      <td>2018-05-18T13:00:04.000Z</td>\n",
       "      <td>aarons animals|\"aarons\"|\"animals\"|\"cat\"|\"cats\"...</td>\n",
       "      <td>1685609</td>\n",
       "      <td>38160</td>\n",
       "      <td>1385</td>\n",
       "      <td>2657</td>\n",
       "      <td>https://i.ytimg.com/vi/BZt0qjTWNhw/default.jpg</td>\n",
       "      <td>False</td>\n",
       "      <td>False</td>\n",
       "      <td>False</td>\n",
       "      <td>The Cat Who Caught the Laser - Aaron's Animals</td>\n",
       "      <td>US</td>\n",
       "    </tr>\n",
       "    <tr>\n",
       "      <th>40945</th>\n",
       "      <td>1h7KV2sjUWY</td>\n",
       "      <td>18.14.06</td>\n",
       "      <td>True Facts : Ant Mutualism</td>\n",
       "      <td>zefrank1</td>\n",
       "      <td>22</td>\n",
       "      <td>2018-05-18T01:00:06.000Z</td>\n",
       "      <td>[none]</td>\n",
       "      <td>1064798</td>\n",
       "      <td>60008</td>\n",
       "      <td>382</td>\n",
       "      <td>3936</td>\n",
       "      <td>https://i.ytimg.com/vi/1h7KV2sjUWY/default.jpg</td>\n",
       "      <td>False</td>\n",
       "      <td>False</td>\n",
       "      <td>False</td>\n",
       "      <td>NaN</td>\n",
       "      <td>US</td>\n",
       "    </tr>\n",
       "    <tr>\n",
       "      <th>40946</th>\n",
       "      <td>D6Oy4LfoqsU</td>\n",
       "      <td>18.14.06</td>\n",
       "      <td>I GAVE SAFIYA NYGAARD A PERFECT HAIR MAKEOVER ...</td>\n",
       "      <td>Brad Mondo</td>\n",
       "      <td>24</td>\n",
       "      <td>2018-05-18T17:34:22.000Z</td>\n",
       "      <td>I gave safiya nygaard a perfect hair makeover ...</td>\n",
       "      <td>1066451</td>\n",
       "      <td>48068</td>\n",
       "      <td>1032</td>\n",
       "      <td>3992</td>\n",
       "      <td>https://i.ytimg.com/vi/D6Oy4LfoqsU/default.jpg</td>\n",
       "      <td>False</td>\n",
       "      <td>False</td>\n",
       "      <td>False</td>\n",
       "      <td>I had so much fun transforming Safiyas hair in...</td>\n",
       "      <td>US</td>\n",
       "    </tr>\n",
       "    <tr>\n",
       "      <th>40947</th>\n",
       "      <td>oV0zkMe1K8s</td>\n",
       "      <td>18.14.06</td>\n",
       "      <td>How Black Panther Should Have Ended</td>\n",
       "      <td>How It Should Have Ended</td>\n",
       "      <td>1</td>\n",
       "      <td>2018-05-17T17:00:04.000Z</td>\n",
       "      <td>Black Panther|\"HISHE\"|\"Marvel\"|\"Infinity War\"|...</td>\n",
       "      <td>5660813</td>\n",
       "      <td>192957</td>\n",
       "      <td>2846</td>\n",
       "      <td>13088</td>\n",
       "      <td>https://i.ytimg.com/vi/oV0zkMe1K8s/default.jpg</td>\n",
       "      <td>False</td>\n",
       "      <td>False</td>\n",
       "      <td>False</td>\n",
       "      <td>How Black Panther Should Have EndedWatch More ...</td>\n",
       "      <td>US</td>\n",
       "    </tr>\n",
       "    <tr>\n",
       "      <th>40948</th>\n",
       "      <td>ooyjaVdt-jA</td>\n",
       "      <td>18.14.06</td>\n",
       "      <td>Official Call of DutyÂ®: Black Ops 4 âÂ Mult...</td>\n",
       "      <td>Call of Duty</td>\n",
       "      <td>20</td>\n",
       "      <td>2018-05-17T17:09:38.000Z</td>\n",
       "      <td>call of duty|\"cod\"|\"activision\"|\"Black Ops 4\"</td>\n",
       "      <td>10306119</td>\n",
       "      <td>357079</td>\n",
       "      <td>212976</td>\n",
       "      <td>144795</td>\n",
       "      <td>https://i.ytimg.com/vi/ooyjaVdt-jA/default.jpg</td>\n",
       "      <td>False</td>\n",
       "      <td>False</td>\n",
       "      <td>False</td>\n",
       "      <td>Call of Duty: Black Ops 4 Multiplayer raises t...</td>\n",
       "      <td>US</td>\n",
       "    </tr>\n",
       "  </tbody>\n",
       "</table>\n",
       "</div>"
      ],
      "text/plain": [
       "          video_id trending_date  \\\n",
       "40935  2in8XqiElwc      18.14.06   \n",
       "40936  Xr2rgT9uEnA      18.14.06   \n",
       "40937  v7H_Or9Nr5I      18.14.06   \n",
       "40938  n_W54baizX8      18.14.06   \n",
       "40939  pcJo0tIWybY      18.14.06   \n",
       "40940  _QWZvU7VCn8      18.14.06   \n",
       "40941  7UoP9ABJXGE      18.14.06   \n",
       "40942  ju_inUnrLc4      18.14.06   \n",
       "40943  1PhPYr_9zRY      18.14.06   \n",
       "40944  BZt0qjTWNhw      18.14.06   \n",
       "40945  1h7KV2sjUWY      18.14.06   \n",
       "40946  D6Oy4LfoqsU      18.14.06   \n",
       "40947  oV0zkMe1K8s      18.14.06   \n",
       "40948  ooyjaVdt-jA      18.14.06   \n",
       "\n",
       "                                                   title  \\\n",
       "40935         Nicki Minaj - Chun-Li (Live on SNL / 2018)   \n",
       "40936              LIE DETECTOR TEST WITH MY GIRLFRIEND!   \n",
       "40937                    Lucas the Spider - Giant Spider   \n",
       "40938               Daddy Yankee - Hielo (Video Oficial)   \n",
       "40939    SZA - Garden (Say It Like Dat) (Official Video)   \n",
       "40940  Brad Pitt Bid $120k For A Night With Emilia Cl...   \n",
       "40941            Dan + Shay - Speechless (Wedding Video)   \n",
       "40942              Fifth Harmony - Don't Say You Love Me   \n",
       "40943  BTS Plays With Puppies While Answering Fan Que...   \n",
       "40944                       The Cat Who Caught the Laser   \n",
       "40945                         True Facts : Ant Mutualism   \n",
       "40946  I GAVE SAFIYA NYGAARD A PERFECT HAIR MAKEOVER ...   \n",
       "40947                How Black Panther Should Have Ended   \n",
       "40948  Official Call of DutyÂ®: Black Ops 4 âÂ Mult...   \n",
       "\n",
       "                  channel_title  category_id              publish_time  \\\n",
       "40935          NickiMinajAtVEVO           10  2018-05-20T07:53:59.000Z   \n",
       "40936                miniminter           20  2018-05-20T18:00:02.000Z   \n",
       "40937          Lucas the Spider            1  2018-05-19T14:52:43.000Z   \n",
       "40938              Daddy Yankee           10  2018-05-18T14:00:04.000Z   \n",
       "40939                   SZAVEVO           10  2018-05-18T14:00:04.000Z   \n",
       "40940    The Graham Norton Show           24  2018-05-18T17:13:08.000Z   \n",
       "40941              Dan And Shay           10  2018-05-18T04:04:58.000Z   \n",
       "40942          FifthHarmonyVEVO           10  2018-05-18T07:00:08.000Z   \n",
       "40943            BuzzFeed Celeb           22  2018-05-18T16:39:29.000Z   \n",
       "40944             AaronsAnimals           15  2018-05-18T13:00:04.000Z   \n",
       "40945                  zefrank1           22  2018-05-18T01:00:06.000Z   \n",
       "40946                Brad Mondo           24  2018-05-18T17:34:22.000Z   \n",
       "40947  How It Should Have Ended            1  2018-05-17T17:00:04.000Z   \n",
       "40948              Call of Duty           20  2018-05-17T17:09:38.000Z   \n",
       "\n",
       "                                                    tags     views   likes  \\\n",
       "40935  Nicki Minaj new music|\"Nicki Minaj Queen\"|\"Nic...   4945185  189265   \n",
       "40936  miniminter|\"mm7games\"|\"simon\"|\"random\"|\"lie de...   3229540  109945   \n",
       "40937   LucastheSpider|\"Animation\"|\"3D Animation\"|\"Cute\"   8300584  266267   \n",
       "40938  daddy yankee reggaeton|\"daddy yankee youtube\"|...  41803845  628861   \n",
       "40939  Garden (Say It Like Dat)|\"R&B\"|\"SZA\"|\"Top Dawg...   6004782  210802   \n",
       "40940  Graham Norton|\"Graham Norton Show Official\"|\"E...   5564576   46351   \n",
       "40941  wedding video|\"heartfelt wedding video\"|\"emoti...   5534278   45128   \n",
       "40942  fifth hamony|\"harmonizers\"|\"lauren\"|\"ally\"|\"no...  23502572  676467   \n",
       "40943  BuzzFeed|\"BuzzFeedVideo\"|\"Puppy Interview\"|\"pu...   8259128  645888   \n",
       "40944  aarons animals|\"aarons\"|\"animals\"|\"cat\"|\"cats\"...   1685609   38160   \n",
       "40945                                             [none]   1064798   60008   \n",
       "40946  I gave safiya nygaard a perfect hair makeover ...   1066451   48068   \n",
       "40947  Black Panther|\"HISHE\"|\"Marvel\"|\"Infinity War\"|...   5660813  192957   \n",
       "40948      call of duty|\"cod\"|\"activision\"|\"Black Ops 4\"  10306119  357079   \n",
       "\n",
       "       dislikes  comment_count  \\\n",
       "40935      9406          18683   \n",
       "40936      3062           6774   \n",
       "40937      4237          14617   \n",
       "40938     42833          39363   \n",
       "40939      4166          15169   \n",
       "40940      2295           2861   \n",
       "40941      1591            806   \n",
       "40942     15993          52432   \n",
       "40943      4052          62610   \n",
       "40944      1385           2657   \n",
       "40945       382           3936   \n",
       "40946      1032           3992   \n",
       "40947      2846          13088   \n",
       "40948    212976         144795   \n",
       "\n",
       "                                       thumbnail_link  comments_disabled  \\\n",
       "40935  https://i.ytimg.com/vi/2in8XqiElwc/default.jpg              False   \n",
       "40936  https://i.ytimg.com/vi/Xr2rgT9uEnA/default.jpg              False   \n",
       "40937  https://i.ytimg.com/vi/v7H_Or9Nr5I/default.jpg              False   \n",
       "40938  https://i.ytimg.com/vi/n_W54baizX8/default.jpg              False   \n",
       "40939  https://i.ytimg.com/vi/pcJo0tIWybY/default.jpg              False   \n",
       "40940  https://i.ytimg.com/vi/_QWZvU7VCn8/default.jpg              False   \n",
       "40941  https://i.ytimg.com/vi/7UoP9ABJXGE/default.jpg              False   \n",
       "40942  https://i.ytimg.com/vi/ju_inUnrLc4/default.jpg              False   \n",
       "40943  https://i.ytimg.com/vi/1PhPYr_9zRY/default.jpg              False   \n",
       "40944  https://i.ytimg.com/vi/BZt0qjTWNhw/default.jpg              False   \n",
       "40945  https://i.ytimg.com/vi/1h7KV2sjUWY/default.jpg              False   \n",
       "40946  https://i.ytimg.com/vi/D6Oy4LfoqsU/default.jpg              False   \n",
       "40947  https://i.ytimg.com/vi/oV0zkMe1K8s/default.jpg              False   \n",
       "40948  https://i.ytimg.com/vi/ooyjaVdt-jA/default.jpg              False   \n",
       "\n",
       "       ratings_disabled  video_error_or_removed  \\\n",
       "40935             False                   False   \n",
       "40936             False                   False   \n",
       "40937             False                   False   \n",
       "40938             False                   False   \n",
       "40939             False                   False   \n",
       "40940             False                   False   \n",
       "40941             False                   False   \n",
       "40942             False                   False   \n",
       "40943             False                   False   \n",
       "40944             False                   False   \n",
       "40945             False                   False   \n",
       "40946             False                   False   \n",
       "40947             False                   False   \n",
       "40948             False                   False   \n",
       "\n",
       "                                             description country  \n",
       "40935  Chun-Li (Live on SNL / 2018)Song Available Her...      US  \n",
       "40936  Talia: https://www.youtube.com/user/nataliahad...      US  \n",
       "40937  Lucas is a tiny spider to some...giant arachni...      US  \n",
       "40938  Daddy Yankee - Hielo (Video Oficial)Spotify: h...      US  \n",
       "40939  SZA's CTRL available on:Apple Music - http://s...      US  \n",
       "40940  Check out all that Emilia Clarke merch... Subs...      US  \n",
       "40941  Stream + Download:https://wmna.sh/speechlessht...      US  \n",
       "40942  Fifth Harmony available at iTunes http://smart...      US  \n",
       "40943  BTS with the PPS, the puppies. These adorable ...      US  \n",
       "40944     The Cat Who Caught the Laser - Aaron's Animals      US  \n",
       "40945                                                NaN      US  \n",
       "40946  I had so much fun transforming Safiyas hair in...      US  \n",
       "40947  How Black Panther Should Have EndedWatch More ...      US  \n",
       "40948  Call of Duty: Black Ops 4 Multiplayer raises t...      US  "
      ]
     },
     "execution_count": 103,
     "metadata": {},
     "output_type": "execute_result"
    }
   ],
   "source": [
    "full_df.tail(14)"
   ]
  },
  {
   "cell_type": "code",
   "execution_count": 104,
   "id": "9466cc25",
   "metadata": {},
   "outputs": [],
   "source": [
    "## 5.. Which Category has the maximum likes ?"
   ]
  },
  {
   "cell_type": "code",
   "execution_count": 121,
   "id": "e0b6a587",
   "metadata": {},
   "outputs": [
    {
     "data": {
      "text/plain": [
       "array([10, 23, 24, 25, 22, 26,  1, 28, 20, 17, 29, 15, 19,  2, 27, 43, 30,\n",
       "       44], dtype=int64)"
      ]
     },
     "execution_count": 121,
     "metadata": {},
     "output_type": "execute_result"
    }
   ],
   "source": [
    "full_df['category_id'].unique()"
   ]
  },
  {
   "cell_type": "code",
   "execution_count": 122,
   "id": "4677ffde",
   "metadata": {},
   "outputs": [],
   "source": [
    "cat = pd.read_csv(r'C:\\Users\\c08ri\\Downloads\\Youtube_project_shan_singh\\Youtube_project_shan_singh/category_file.txt',sep=\":\")"
   ]
  },
  {
   "cell_type": "code",
   "execution_count": 123,
   "id": "aae448bc",
   "metadata": {},
   "outputs": [],
   "source": [
    "cat.reset_index(inplace=True)"
   ]
  },
  {
   "cell_type": "code",
   "execution_count": 124,
   "id": "1d419f69",
   "metadata": {},
   "outputs": [],
   "source": [
    "cat.columns=['category_id','Category_name']"
   ]
  },
  {
   "cell_type": "code",
   "execution_count": 125,
   "id": "338d3a39",
   "metadata": {},
   "outputs": [],
   "source": [
    "cat.set_index('category_id',inplace=True)"
   ]
  },
  {
   "cell_type": "code",
   "execution_count": 115,
   "id": "5b5fe72e",
   "metadata": {},
   "outputs": [
    {
     "data": {
      "text/html": [
       "<div>\n",
       "<style scoped>\n",
       "    .dataframe tbody tr th:only-of-type {\n",
       "        vertical-align: middle;\n",
       "    }\n",
       "\n",
       "    .dataframe tbody tr th {\n",
       "        vertical-align: top;\n",
       "    }\n",
       "\n",
       "    .dataframe thead th {\n",
       "        text-align: right;\n",
       "    }\n",
       "</style>\n",
       "<table border=\"1\" class=\"dataframe\">\n",
       "  <thead>\n",
       "    <tr style=\"text-align: right;\">\n",
       "      <th></th>\n",
       "      <th>category_name</th>\n",
       "    </tr>\n",
       "    <tr>\n",
       "      <th>category_id</th>\n",
       "      <th></th>\n",
       "    </tr>\n",
       "  </thead>\n",
       "  <tbody>\n",
       "    <tr>\n",
       "      <th>1</th>\n",
       "      <td>Film &amp; Animation</td>\n",
       "    </tr>\n",
       "    <tr>\n",
       "      <th>2</th>\n",
       "      <td>Autos &amp; Vehicles</td>\n",
       "    </tr>\n",
       "    <tr>\n",
       "      <th>10</th>\n",
       "      <td>Music</td>\n",
       "    </tr>\n",
       "    <tr>\n",
       "      <th>15</th>\n",
       "      <td>Pets &amp; Animals</td>\n",
       "    </tr>\n",
       "    <tr>\n",
       "      <th>17</th>\n",
       "      <td>Sports</td>\n",
       "    </tr>\n",
       "    <tr>\n",
       "      <th>18</th>\n",
       "      <td>Short Movies</td>\n",
       "    </tr>\n",
       "    <tr>\n",
       "      <th>19</th>\n",
       "      <td>Travel &amp; Events</td>\n",
       "    </tr>\n",
       "    <tr>\n",
       "      <th>20</th>\n",
       "      <td>Gaming</td>\n",
       "    </tr>\n",
       "    <tr>\n",
       "      <th>21</th>\n",
       "      <td>Videoblogging</td>\n",
       "    </tr>\n",
       "    <tr>\n",
       "      <th>22</th>\n",
       "      <td>People &amp; Blogs</td>\n",
       "    </tr>\n",
       "    <tr>\n",
       "      <th>23</th>\n",
       "      <td>Comedy</td>\n",
       "    </tr>\n",
       "    <tr>\n",
       "      <th>24</th>\n",
       "      <td>Entertainment</td>\n",
       "    </tr>\n",
       "    <tr>\n",
       "      <th>25</th>\n",
       "      <td>News &amp; Politics</td>\n",
       "    </tr>\n",
       "    <tr>\n",
       "      <th>26</th>\n",
       "      <td>Howto &amp; Style</td>\n",
       "    </tr>\n",
       "    <tr>\n",
       "      <th>27</th>\n",
       "      <td>Education</td>\n",
       "    </tr>\n",
       "    <tr>\n",
       "      <th>28</th>\n",
       "      <td>Science &amp; Technology</td>\n",
       "    </tr>\n",
       "    <tr>\n",
       "      <th>29</th>\n",
       "      <td>Nonprofits &amp; Activism</td>\n",
       "    </tr>\n",
       "    <tr>\n",
       "      <th>30</th>\n",
       "      <td>Movies</td>\n",
       "    </tr>\n",
       "    <tr>\n",
       "      <th>31</th>\n",
       "      <td>Anime/Animation</td>\n",
       "    </tr>\n",
       "    <tr>\n",
       "      <th>32</th>\n",
       "      <td>Action/Adventure</td>\n",
       "    </tr>\n",
       "    <tr>\n",
       "      <th>33</th>\n",
       "      <td>Classics</td>\n",
       "    </tr>\n",
       "    <tr>\n",
       "      <th>34</th>\n",
       "      <td>Comedy</td>\n",
       "    </tr>\n",
       "    <tr>\n",
       "      <th>35</th>\n",
       "      <td>Documentary</td>\n",
       "    </tr>\n",
       "    <tr>\n",
       "      <th>36</th>\n",
       "      <td>Drama</td>\n",
       "    </tr>\n",
       "    <tr>\n",
       "      <th>37</th>\n",
       "      <td>Family</td>\n",
       "    </tr>\n",
       "    <tr>\n",
       "      <th>38</th>\n",
       "      <td>Foreign</td>\n",
       "    </tr>\n",
       "    <tr>\n",
       "      <th>39</th>\n",
       "      <td>Horror</td>\n",
       "    </tr>\n",
       "    <tr>\n",
       "      <th>40</th>\n",
       "      <td>Sci-Fi/Fantasy</td>\n",
       "    </tr>\n",
       "    <tr>\n",
       "      <th>41</th>\n",
       "      <td>Thriller</td>\n",
       "    </tr>\n",
       "    <tr>\n",
       "      <th>42</th>\n",
       "      <td>Shorts</td>\n",
       "    </tr>\n",
       "    <tr>\n",
       "      <th>43</th>\n",
       "      <td>Shows</td>\n",
       "    </tr>\n",
       "    <tr>\n",
       "      <th>44</th>\n",
       "      <td>Trailers</td>\n",
       "    </tr>\n",
       "  </tbody>\n",
       "</table>\n",
       "</div>"
      ],
      "text/plain": [
       "                      category_name\n",
       "category_id                        \n",
       "1                  Film & Animation\n",
       "2                  Autos & Vehicles\n",
       "10                            Music\n",
       "15                   Pets & Animals\n",
       "17                           Sports\n",
       "18                     Short Movies\n",
       "19                  Travel & Events\n",
       "20                           Gaming\n",
       "21                    Videoblogging\n",
       "22                   People & Blogs\n",
       "23                           Comedy\n",
       "24                    Entertainment\n",
       "25                  News & Politics\n",
       "26                    Howto & Style\n",
       "27                        Education\n",
       "28             Science & Technology\n",
       "29            Nonprofits & Activism\n",
       "30                           Movies\n",
       "31                  Anime/Animation\n",
       "32                 Action/Adventure\n",
       "33                         Classics\n",
       "34                           Comedy\n",
       "35                      Documentary\n",
       "36                            Drama\n",
       "37                           Family\n",
       "38                          Foreign\n",
       "39                           Horror\n",
       "40                   Sci-Fi/Fantasy\n",
       "41                         Thriller\n",
       "42                           Shorts\n",
       "43                            Shows\n",
       "44             Trailers            "
      ]
     },
     "execution_count": 115,
     "metadata": {},
     "output_type": "execute_result"
    }
   ],
   "source": []
  },
  {
   "cell_type": "code",
   "execution_count": 126,
   "id": "6ca0385f",
   "metadata": {},
   "outputs": [],
   "source": [
    "dct=cat.to_dict()"
   ]
  },
  {
   "cell_type": "code",
   "execution_count": 127,
   "id": "4ae25095",
   "metadata": {},
   "outputs": [
    {
     "data": {
      "text/plain": [
       "{1: ' Film & Animation',\n",
       " 2: ' Autos & Vehicles',\n",
       " 10: ' Music',\n",
       " 15: ' Pets & Animals',\n",
       " 17: ' Sports',\n",
       " 18: ' Short Movies',\n",
       " 19: ' Travel & Events',\n",
       " 20: ' Gaming',\n",
       " 21: ' Videoblogging',\n",
       " 22: ' People & Blogs',\n",
       " 23: ' Comedy',\n",
       " 24: ' Entertainment',\n",
       " 25: ' News & Politics',\n",
       " 26: ' Howto & Style',\n",
       " 27: ' Education',\n",
       " 28: ' Science & Technology',\n",
       " 29: ' Nonprofits & Activism',\n",
       " 30: ' Movies',\n",
       " 31: ' Anime/Animation',\n",
       " 32: ' Action/Adventure',\n",
       " 33: ' Classics',\n",
       " 34: ' Comedy',\n",
       " 35: ' Documentary',\n",
       " 36: ' Drama',\n",
       " 37: ' Family',\n",
       " 38: ' Foreign',\n",
       " 39: ' Horror',\n",
       " 40: ' Sci-Fi/Fantasy',\n",
       " 41: ' Thriller',\n",
       " 42: ' Shorts',\n",
       " 43: ' Shows',\n",
       " 44: ' Trailers            '}"
      ]
     },
     "execution_count": 127,
     "metadata": {},
     "output_type": "execute_result"
    }
   ],
   "source": [
    "dct['Category_name']"
   ]
  },
  {
   "cell_type": "code",
   "execution_count": 128,
   "id": "829555f6",
   "metadata": {},
   "outputs": [],
   "source": [
    "full_df['category_name']=full_df['category_id'].map(dct['Category_name'])"
   ]
  },
  {
   "cell_type": "code",
   "execution_count": 129,
   "id": "f2593334",
   "metadata": {
    "scrolled": true
   },
   "outputs": [
    {
     "data": {
      "text/html": [
       "<div>\n",
       "<style scoped>\n",
       "    .dataframe tbody tr th:only-of-type {\n",
       "        vertical-align: middle;\n",
       "    }\n",
       "\n",
       "    .dataframe tbody tr th {\n",
       "        vertical-align: top;\n",
       "    }\n",
       "\n",
       "    .dataframe thead th {\n",
       "        text-align: right;\n",
       "    }\n",
       "</style>\n",
       "<table border=\"1\" class=\"dataframe\">\n",
       "  <thead>\n",
       "    <tr style=\"text-align: right;\">\n",
       "      <th></th>\n",
       "      <th>video_id</th>\n",
       "      <th>trending_date</th>\n",
       "      <th>title</th>\n",
       "      <th>channel_title</th>\n",
       "      <th>category_id</th>\n",
       "      <th>publish_time</th>\n",
       "      <th>tags</th>\n",
       "      <th>views</th>\n",
       "      <th>likes</th>\n",
       "      <th>dislikes</th>\n",
       "      <th>comment_count</th>\n",
       "      <th>thumbnail_link</th>\n",
       "      <th>comments_disabled</th>\n",
       "      <th>ratings_disabled</th>\n",
       "      <th>video_error_or_removed</th>\n",
       "      <th>description</th>\n",
       "      <th>country</th>\n",
       "      <th>category_name</th>\n",
       "    </tr>\n",
       "  </thead>\n",
       "  <tbody>\n",
       "    <tr>\n",
       "      <th>0</th>\n",
       "      <td>n1WpP7iowLc</td>\n",
       "      <td>17.14.11</td>\n",
       "      <td>Eminem - Walk On Water (Audio) ft. BeyoncÃ©</td>\n",
       "      <td>EminemVEVO</td>\n",
       "      <td>10</td>\n",
       "      <td>2017-11-10T17:00:03.000Z</td>\n",
       "      <td>Eminem|\"Walk\"|\"On\"|\"Water\"|\"Aftermath/Shady/In...</td>\n",
       "      <td>17158579</td>\n",
       "      <td>787425</td>\n",
       "      <td>43420</td>\n",
       "      <td>125882</td>\n",
       "      <td>https://i.ytimg.com/vi/n1WpP7iowLc/default.jpg</td>\n",
       "      <td>False</td>\n",
       "      <td>False</td>\n",
       "      <td>False</td>\n",
       "      <td>Eminem's new track Walk on Water ft. BeyoncÃ© ...</td>\n",
       "      <td>CA</td>\n",
       "      <td>Music</td>\n",
       "    </tr>\n",
       "    <tr>\n",
       "      <th>1</th>\n",
       "      <td>0dBIkQ4Mz1M</td>\n",
       "      <td>17.14.11</td>\n",
       "      <td>PLUSH - Bad Unboxing Fan Mail</td>\n",
       "      <td>iDubbbzTV</td>\n",
       "      <td>23</td>\n",
       "      <td>2017-11-13T17:00:00.000Z</td>\n",
       "      <td>plush|\"bad unboxing\"|\"unboxing\"|\"fan mail\"|\"id...</td>\n",
       "      <td>1014651</td>\n",
       "      <td>127794</td>\n",
       "      <td>1688</td>\n",
       "      <td>13030</td>\n",
       "      <td>https://i.ytimg.com/vi/0dBIkQ4Mz1M/default.jpg</td>\n",
       "      <td>False</td>\n",
       "      <td>False</td>\n",
       "      <td>False</td>\n",
       "      <td>STill got a lot of packages. Probably will las...</td>\n",
       "      <td>CA</td>\n",
       "      <td>Comedy</td>\n",
       "    </tr>\n",
       "    <tr>\n",
       "      <th>2</th>\n",
       "      <td>5qpjK5DgCt4</td>\n",
       "      <td>17.14.11</td>\n",
       "      <td>Racist Superman | Rudy Mancuso, King Bach &amp; Le...</td>\n",
       "      <td>Rudy Mancuso</td>\n",
       "      <td>23</td>\n",
       "      <td>2017-11-12T19:05:24.000Z</td>\n",
       "      <td>racist superman|\"rudy\"|\"mancuso\"|\"king\"|\"bach\"...</td>\n",
       "      <td>3191434</td>\n",
       "      <td>146035</td>\n",
       "      <td>5339</td>\n",
       "      <td>8181</td>\n",
       "      <td>https://i.ytimg.com/vi/5qpjK5DgCt4/default.jpg</td>\n",
       "      <td>False</td>\n",
       "      <td>False</td>\n",
       "      <td>False</td>\n",
       "      <td>WATCH MY PREVIOUS VIDEO â¶ \\n\\nSUBSCRIBE âº ...</td>\n",
       "      <td>CA</td>\n",
       "      <td>Comedy</td>\n",
       "    </tr>\n",
       "    <tr>\n",
       "      <th>3</th>\n",
       "      <td>d380meD0W0M</td>\n",
       "      <td>17.14.11</td>\n",
       "      <td>I Dare You: GOING BALD!?</td>\n",
       "      <td>nigahiga</td>\n",
       "      <td>24</td>\n",
       "      <td>2017-11-12T18:01:41.000Z</td>\n",
       "      <td>ryan|\"higa\"|\"higatv\"|\"nigahiga\"|\"i dare you\"|\"...</td>\n",
       "      <td>2095828</td>\n",
       "      <td>132239</td>\n",
       "      <td>1989</td>\n",
       "      <td>17518</td>\n",
       "      <td>https://i.ytimg.com/vi/d380meD0W0M/default.jpg</td>\n",
       "      <td>False</td>\n",
       "      <td>False</td>\n",
       "      <td>False</td>\n",
       "      <td>I know it's been a while since we did this sho...</td>\n",
       "      <td>CA</td>\n",
       "      <td>Entertainment</td>\n",
       "    </tr>\n",
       "    <tr>\n",
       "      <th>4</th>\n",
       "      <td>2Vv-BfVoq4g</td>\n",
       "      <td>17.14.11</td>\n",
       "      <td>Ed Sheeran - Perfect (Official Music Video)</td>\n",
       "      <td>Ed Sheeran</td>\n",
       "      <td>10</td>\n",
       "      <td>2017-11-09T11:04:14.000Z</td>\n",
       "      <td>edsheeran|\"ed sheeran\"|\"acoustic\"|\"live\"|\"cove...</td>\n",
       "      <td>33523622</td>\n",
       "      <td>1634130</td>\n",
       "      <td>21082</td>\n",
       "      <td>85067</td>\n",
       "      <td>https://i.ytimg.com/vi/2Vv-BfVoq4g/default.jpg</td>\n",
       "      <td>False</td>\n",
       "      <td>False</td>\n",
       "      <td>False</td>\n",
       "      <td>ð§: https://ad.gt/yt-perfect\\nð°: https://...</td>\n",
       "      <td>CA</td>\n",
       "      <td>Music</td>\n",
       "    </tr>\n",
       "    <tr>\n",
       "      <th>...</th>\n",
       "      <td>...</td>\n",
       "      <td>...</td>\n",
       "      <td>...</td>\n",
       "      <td>...</td>\n",
       "      <td>...</td>\n",
       "      <td>...</td>\n",
       "      <td>...</td>\n",
       "      <td>...</td>\n",
       "      <td>...</td>\n",
       "      <td>...</td>\n",
       "      <td>...</td>\n",
       "      <td>...</td>\n",
       "      <td>...</td>\n",
       "      <td>...</td>\n",
       "      <td>...</td>\n",
       "      <td>...</td>\n",
       "      <td>...</td>\n",
       "      <td>...</td>\n",
       "    </tr>\n",
       "    <tr>\n",
       "      <th>40944</th>\n",
       "      <td>BZt0qjTWNhw</td>\n",
       "      <td>18.14.06</td>\n",
       "      <td>The Cat Who Caught the Laser</td>\n",
       "      <td>AaronsAnimals</td>\n",
       "      <td>15</td>\n",
       "      <td>2018-05-18T13:00:04.000Z</td>\n",
       "      <td>aarons animals|\"aarons\"|\"animals\"|\"cat\"|\"cats\"...</td>\n",
       "      <td>1685609</td>\n",
       "      <td>38160</td>\n",
       "      <td>1385</td>\n",
       "      <td>2657</td>\n",
       "      <td>https://i.ytimg.com/vi/BZt0qjTWNhw/default.jpg</td>\n",
       "      <td>False</td>\n",
       "      <td>False</td>\n",
       "      <td>False</td>\n",
       "      <td>The Cat Who Caught the Laser - Aaron's Animals</td>\n",
       "      <td>US</td>\n",
       "      <td>Pets &amp; Animals</td>\n",
       "    </tr>\n",
       "    <tr>\n",
       "      <th>40945</th>\n",
       "      <td>1h7KV2sjUWY</td>\n",
       "      <td>18.14.06</td>\n",
       "      <td>True Facts : Ant Mutualism</td>\n",
       "      <td>zefrank1</td>\n",
       "      <td>22</td>\n",
       "      <td>2018-05-18T01:00:06.000Z</td>\n",
       "      <td>[none]</td>\n",
       "      <td>1064798</td>\n",
       "      <td>60008</td>\n",
       "      <td>382</td>\n",
       "      <td>3936</td>\n",
       "      <td>https://i.ytimg.com/vi/1h7KV2sjUWY/default.jpg</td>\n",
       "      <td>False</td>\n",
       "      <td>False</td>\n",
       "      <td>False</td>\n",
       "      <td>NaN</td>\n",
       "      <td>US</td>\n",
       "      <td>People &amp; Blogs</td>\n",
       "    </tr>\n",
       "    <tr>\n",
       "      <th>40946</th>\n",
       "      <td>D6Oy4LfoqsU</td>\n",
       "      <td>18.14.06</td>\n",
       "      <td>I GAVE SAFIYA NYGAARD A PERFECT HAIR MAKEOVER ...</td>\n",
       "      <td>Brad Mondo</td>\n",
       "      <td>24</td>\n",
       "      <td>2018-05-18T17:34:22.000Z</td>\n",
       "      <td>I gave safiya nygaard a perfect hair makeover ...</td>\n",
       "      <td>1066451</td>\n",
       "      <td>48068</td>\n",
       "      <td>1032</td>\n",
       "      <td>3992</td>\n",
       "      <td>https://i.ytimg.com/vi/D6Oy4LfoqsU/default.jpg</td>\n",
       "      <td>False</td>\n",
       "      <td>False</td>\n",
       "      <td>False</td>\n",
       "      <td>I had so much fun transforming Safiyas hair in...</td>\n",
       "      <td>US</td>\n",
       "      <td>Entertainment</td>\n",
       "    </tr>\n",
       "    <tr>\n",
       "      <th>40947</th>\n",
       "      <td>oV0zkMe1K8s</td>\n",
       "      <td>18.14.06</td>\n",
       "      <td>How Black Panther Should Have Ended</td>\n",
       "      <td>How It Should Have Ended</td>\n",
       "      <td>1</td>\n",
       "      <td>2018-05-17T17:00:04.000Z</td>\n",
       "      <td>Black Panther|\"HISHE\"|\"Marvel\"|\"Infinity War\"|...</td>\n",
       "      <td>5660813</td>\n",
       "      <td>192957</td>\n",
       "      <td>2846</td>\n",
       "      <td>13088</td>\n",
       "      <td>https://i.ytimg.com/vi/oV0zkMe1K8s/default.jpg</td>\n",
       "      <td>False</td>\n",
       "      <td>False</td>\n",
       "      <td>False</td>\n",
       "      <td>How Black Panther Should Have EndedWatch More ...</td>\n",
       "      <td>US</td>\n",
       "      <td>Film &amp; Animation</td>\n",
       "    </tr>\n",
       "    <tr>\n",
       "      <th>40948</th>\n",
       "      <td>ooyjaVdt-jA</td>\n",
       "      <td>18.14.06</td>\n",
       "      <td>Official Call of DutyÂ®: Black Ops 4 âÂ Mult...</td>\n",
       "      <td>Call of Duty</td>\n",
       "      <td>20</td>\n",
       "      <td>2018-05-17T17:09:38.000Z</td>\n",
       "      <td>call of duty|\"cod\"|\"activision\"|\"Black Ops 4\"</td>\n",
       "      <td>10306119</td>\n",
       "      <td>357079</td>\n",
       "      <td>212976</td>\n",
       "      <td>144795</td>\n",
       "      <td>https://i.ytimg.com/vi/ooyjaVdt-jA/default.jpg</td>\n",
       "      <td>False</td>\n",
       "      <td>False</td>\n",
       "      <td>False</td>\n",
       "      <td>Call of Duty: Black Ops 4 Multiplayer raises t...</td>\n",
       "      <td>US</td>\n",
       "      <td>Gaming</td>\n",
       "    </tr>\n",
       "  </tbody>\n",
       "</table>\n",
       "<p>375942 rows × 18 columns</p>\n",
       "</div>"
      ],
      "text/plain": [
       "          video_id trending_date  \\\n",
       "0      n1WpP7iowLc      17.14.11   \n",
       "1      0dBIkQ4Mz1M      17.14.11   \n",
       "2      5qpjK5DgCt4      17.14.11   \n",
       "3      d380meD0W0M      17.14.11   \n",
       "4      2Vv-BfVoq4g      17.14.11   \n",
       "...            ...           ...   \n",
       "40944  BZt0qjTWNhw      18.14.06   \n",
       "40945  1h7KV2sjUWY      18.14.06   \n",
       "40946  D6Oy4LfoqsU      18.14.06   \n",
       "40947  oV0zkMe1K8s      18.14.06   \n",
       "40948  ooyjaVdt-jA      18.14.06   \n",
       "\n",
       "                                                   title  \\\n",
       "0            Eminem - Walk On Water (Audio) ft. BeyoncÃ©   \n",
       "1                          PLUSH - Bad Unboxing Fan Mail   \n",
       "2      Racist Superman | Rudy Mancuso, King Bach & Le...   \n",
       "3                               I Dare You: GOING BALD!?   \n",
       "4            Ed Sheeran - Perfect (Official Music Video)   \n",
       "...                                                  ...   \n",
       "40944                       The Cat Who Caught the Laser   \n",
       "40945                         True Facts : Ant Mutualism   \n",
       "40946  I GAVE SAFIYA NYGAARD A PERFECT HAIR MAKEOVER ...   \n",
       "40947                How Black Panther Should Have Ended   \n",
       "40948  Official Call of DutyÂ®: Black Ops 4 âÂ Mult...   \n",
       "\n",
       "                  channel_title  category_id              publish_time  \\\n",
       "0                    EminemVEVO           10  2017-11-10T17:00:03.000Z   \n",
       "1                     iDubbbzTV           23  2017-11-13T17:00:00.000Z   \n",
       "2                  Rudy Mancuso           23  2017-11-12T19:05:24.000Z   \n",
       "3                      nigahiga           24  2017-11-12T18:01:41.000Z   \n",
       "4                    Ed Sheeran           10  2017-11-09T11:04:14.000Z   \n",
       "...                         ...          ...                       ...   \n",
       "40944             AaronsAnimals           15  2018-05-18T13:00:04.000Z   \n",
       "40945                  zefrank1           22  2018-05-18T01:00:06.000Z   \n",
       "40946                Brad Mondo           24  2018-05-18T17:34:22.000Z   \n",
       "40947  How It Should Have Ended            1  2018-05-17T17:00:04.000Z   \n",
       "40948              Call of Duty           20  2018-05-17T17:09:38.000Z   \n",
       "\n",
       "                                                    tags     views    likes  \\\n",
       "0      Eminem|\"Walk\"|\"On\"|\"Water\"|\"Aftermath/Shady/In...  17158579   787425   \n",
       "1      plush|\"bad unboxing\"|\"unboxing\"|\"fan mail\"|\"id...   1014651   127794   \n",
       "2      racist superman|\"rudy\"|\"mancuso\"|\"king\"|\"bach\"...   3191434   146035   \n",
       "3      ryan|\"higa\"|\"higatv\"|\"nigahiga\"|\"i dare you\"|\"...   2095828   132239   \n",
       "4      edsheeran|\"ed sheeran\"|\"acoustic\"|\"live\"|\"cove...  33523622  1634130   \n",
       "...                                                  ...       ...      ...   \n",
       "40944  aarons animals|\"aarons\"|\"animals\"|\"cat\"|\"cats\"...   1685609    38160   \n",
       "40945                                             [none]   1064798    60008   \n",
       "40946  I gave safiya nygaard a perfect hair makeover ...   1066451    48068   \n",
       "40947  Black Panther|\"HISHE\"|\"Marvel\"|\"Infinity War\"|...   5660813   192957   \n",
       "40948      call of duty|\"cod\"|\"activision\"|\"Black Ops 4\"  10306119   357079   \n",
       "\n",
       "       dislikes  comment_count  \\\n",
       "0         43420         125882   \n",
       "1          1688          13030   \n",
       "2          5339           8181   \n",
       "3          1989          17518   \n",
       "4         21082          85067   \n",
       "...         ...            ...   \n",
       "40944      1385           2657   \n",
       "40945       382           3936   \n",
       "40946      1032           3992   \n",
       "40947      2846          13088   \n",
       "40948    212976         144795   \n",
       "\n",
       "                                       thumbnail_link  comments_disabled  \\\n",
       "0      https://i.ytimg.com/vi/n1WpP7iowLc/default.jpg              False   \n",
       "1      https://i.ytimg.com/vi/0dBIkQ4Mz1M/default.jpg              False   \n",
       "2      https://i.ytimg.com/vi/5qpjK5DgCt4/default.jpg              False   \n",
       "3      https://i.ytimg.com/vi/d380meD0W0M/default.jpg              False   \n",
       "4      https://i.ytimg.com/vi/2Vv-BfVoq4g/default.jpg              False   \n",
       "...                                               ...                ...   \n",
       "40944  https://i.ytimg.com/vi/BZt0qjTWNhw/default.jpg              False   \n",
       "40945  https://i.ytimg.com/vi/1h7KV2sjUWY/default.jpg              False   \n",
       "40946  https://i.ytimg.com/vi/D6Oy4LfoqsU/default.jpg              False   \n",
       "40947  https://i.ytimg.com/vi/oV0zkMe1K8s/default.jpg              False   \n",
       "40948  https://i.ytimg.com/vi/ooyjaVdt-jA/default.jpg              False   \n",
       "\n",
       "       ratings_disabled  video_error_or_removed  \\\n",
       "0                 False                   False   \n",
       "1                 False                   False   \n",
       "2                 False                   False   \n",
       "3                 False                   False   \n",
       "4                 False                   False   \n",
       "...                 ...                     ...   \n",
       "40944             False                   False   \n",
       "40945             False                   False   \n",
       "40946             False                   False   \n",
       "40947             False                   False   \n",
       "40948             False                   False   \n",
       "\n",
       "                                             description country  \\\n",
       "0      Eminem's new track Walk on Water ft. BeyoncÃ© ...      CA   \n",
       "1      STill got a lot of packages. Probably will las...      CA   \n",
       "2      WATCH MY PREVIOUS VIDEO â¶ \\n\\nSUBSCRIBE âº ...      CA   \n",
       "3      I know it's been a while since we did this sho...      CA   \n",
       "4      ð§: https://ad.gt/yt-perfect\\nð°: https://...      CA   \n",
       "...                                                  ...     ...   \n",
       "40944     The Cat Who Caught the Laser - Aaron's Animals      US   \n",
       "40945                                                NaN      US   \n",
       "40946  I had so much fun transforming Safiyas hair in...      US   \n",
       "40947  How Black Panther Should Have EndedWatch More ...      US   \n",
       "40948  Call of Duty: Black Ops 4 Multiplayer raises t...      US   \n",
       "\n",
       "           category_name  \n",
       "0                  Music  \n",
       "1                 Comedy  \n",
       "2                 Comedy  \n",
       "3          Entertainment  \n",
       "4                  Music  \n",
       "...                  ...  \n",
       "40944     Pets & Animals  \n",
       "40945     People & Blogs  \n",
       "40946      Entertainment  \n",
       "40947   Film & Animation  \n",
       "40948             Gaming  \n",
       "\n",
       "[375942 rows x 18 columns]"
      ]
     },
     "execution_count": 129,
     "metadata": {},
     "output_type": "execute_result"
    }
   ],
   "source": [
    "full_df"
   ]
  },
  {
   "cell_type": "code",
   "execution_count": 131,
   "id": "b02445ad",
   "metadata": {},
   "outputs": [
    {
     "data": {
      "text/plain": [
       "(array([ 0,  1,  2,  3,  4,  5,  6,  7,  8,  9, 10, 11, 12, 13, 14, 15, 16,\n",
       "        17]),\n",
       " [Text(0, 0, ' Music'),\n",
       "  Text(1, 0, ' Comedy'),\n",
       "  Text(2, 0, ' Entertainment'),\n",
       "  Text(3, 0, ' News & Politics'),\n",
       "  Text(4, 0, ' People & Blogs'),\n",
       "  Text(5, 0, ' Howto & Style'),\n",
       "  Text(6, 0, ' Film & Animation'),\n",
       "  Text(7, 0, ' Science & Technology'),\n",
       "  Text(8, 0, ' Gaming'),\n",
       "  Text(9, 0, ' Sports'),\n",
       "  Text(10, 0, ' Nonprofits & Activism'),\n",
       "  Text(11, 0, ' Pets & Animals'),\n",
       "  Text(12, 0, ' Travel & Events'),\n",
       "  Text(13, 0, ' Autos & Vehicles'),\n",
       "  Text(14, 0, ' Education'),\n",
       "  Text(15, 0, ' Shows'),\n",
       "  Text(16, 0, ' Movies'),\n",
       "  Text(17, 0, ' Trailers            ')])"
      ]
     },
     "execution_count": 131,
     "metadata": {},
     "output_type": "execute_result"
    },
    {
     "data": {
      "image/png": "[encoded data removed]",
      "text/plain": [
       "<Figure size 864x576 with 1 Axes>"
      ]
     },
     "metadata": {
      "needs_background": "light"
     },
     "output_type": "display_data"
    }
   ],
   "source": [
    "plt.figure(figsize=(12,8))\n",
    "sns.boxplot(x='category_name',y='likes',data=full_df)\n",
    "plt.xticks(rotation='vertical')"
   ]
  },
  {
   "cell_type": "code",
   "execution_count": 132,
   "id": "69ac38af",
   "metadata": {},
   "outputs": [],
   "source": [
    "## 6.. Find out whether audience is engaged or not"
   ]
  },
  {
   "cell_type": "code",
   "execution_count": 133,
   "id": "7e740b12",
   "metadata": {},
   "outputs": [
    {
     "data": {
      "text/plain": [
       "Index(['video_id', 'trending_date', 'title', 'channel_title', 'category_id',\n",
       "       'publish_time', 'tags', 'views', 'likes', 'dislikes', 'comment_count',\n",
       "       'thumbnail_link', 'comments_disabled', 'ratings_disabled',\n",
       "       'video_error_or_removed', 'description', 'country', 'category_name'],\n",
       "      dtype='object')"
      ]
     },
     "execution_count": 133,
     "metadata": {},
     "output_type": "execute_result"
    }
   ],
   "source": [
    " full_df.columns"
   ]
  },
  {
   "cell_type": "code",
   "execution_count": 138,
   "id": "31c18476",
   "metadata": {},
   "outputs": [],
   "source": [
    "full_df['like_rate']=(full_df['likes']/full_df['views'])*100\n",
    "full_df['dislike_rate']=(full_df['dislikes']/full_df['views'])*100\n",
    "full_df['comment_rate']=(full_df['comment_count']/full_df['views'])*100"
   ]
  },
  {
   "cell_type": "code",
   "execution_count": 139,
   "id": "f0f58929",
   "metadata": {},
   "outputs": [
    {
     "data": {
      "text/html": [
       "<div>\n",
       "<style scoped>\n",
       "    .dataframe tbody tr th:only-of-type {\n",
       "        vertical-align: middle;\n",
       "    }\n",
       "\n",
       "    .dataframe tbody tr th {\n",
       "        vertical-align: top;\n",
       "    }\n",
       "\n",
       "    .dataframe thead th {\n",
       "        text-align: right;\n",
       "    }\n",
       "</style>\n",
       "<table border=\"1\" class=\"dataframe\">\n",
       "  <thead>\n",
       "    <tr style=\"text-align: right;\">\n",
       "      <th></th>\n",
       "      <th>video_id</th>\n",
       "      <th>trending_date</th>\n",
       "      <th>title</th>\n",
       "      <th>channel_title</th>\n",
       "      <th>category_id</th>\n",
       "      <th>publish_time</th>\n",
       "      <th>tags</th>\n",
       "      <th>views</th>\n",
       "      <th>likes</th>\n",
       "      <th>dislikes</th>\n",
       "      <th>...</th>\n",
       "      <th>thumbnail_link</th>\n",
       "      <th>comments_disabled</th>\n",
       "      <th>ratings_disabled</th>\n",
       "      <th>video_error_or_removed</th>\n",
       "      <th>description</th>\n",
       "      <th>country</th>\n",
       "      <th>category_name</th>\n",
       "      <th>like_rate</th>\n",
       "      <th>dislike_rate</th>\n",
       "      <th>comment_rate</th>\n",
       "    </tr>\n",
       "  </thead>\n",
       "  <tbody>\n",
       "    <tr>\n",
       "      <th>0</th>\n",
       "      <td>n1WpP7iowLc</td>\n",
       "      <td>17.14.11</td>\n",
       "      <td>Eminem - Walk On Water (Audio) ft. BeyoncÃ©</td>\n",
       "      <td>EminemVEVO</td>\n",
       "      <td>10</td>\n",
       "      <td>2017-11-10T17:00:03.000Z</td>\n",
       "      <td>Eminem|\"Walk\"|\"On\"|\"Water\"|\"Aftermath/Shady/In...</td>\n",
       "      <td>17158579</td>\n",
       "      <td>787425</td>\n",
       "      <td>43420</td>\n",
       "      <td>...</td>\n",
       "      <td>https://i.ytimg.com/vi/n1WpP7iowLc/default.jpg</td>\n",
       "      <td>False</td>\n",
       "      <td>False</td>\n",
       "      <td>False</td>\n",
       "      <td>Eminem's new track Walk on Water ft. BeyoncÃ© ...</td>\n",
       "      <td>CA</td>\n",
       "      <td>Music</td>\n",
       "      <td>4.589104</td>\n",
       "      <td>0.253051</td>\n",
       "      <td>0.733639</td>\n",
       "    </tr>\n",
       "    <tr>\n",
       "      <th>1</th>\n",
       "      <td>0dBIkQ4Mz1M</td>\n",
       "      <td>17.14.11</td>\n",
       "      <td>PLUSH - Bad Unboxing Fan Mail</td>\n",
       "      <td>iDubbbzTV</td>\n",
       "      <td>23</td>\n",
       "      <td>2017-11-13T17:00:00.000Z</td>\n",
       "      <td>plush|\"bad unboxing\"|\"unboxing\"|\"fan mail\"|\"id...</td>\n",
       "      <td>1014651</td>\n",
       "      <td>127794</td>\n",
       "      <td>1688</td>\n",
       "      <td>...</td>\n",
       "      <td>https://i.ytimg.com/vi/0dBIkQ4Mz1M/default.jpg</td>\n",
       "      <td>False</td>\n",
       "      <td>False</td>\n",
       "      <td>False</td>\n",
       "      <td>STill got a lot of packages. Probably will las...</td>\n",
       "      <td>CA</td>\n",
       "      <td>Comedy</td>\n",
       "      <td>12.594873</td>\n",
       "      <td>0.166363</td>\n",
       "      <td>1.284185</td>\n",
       "    </tr>\n",
       "    <tr>\n",
       "      <th>2</th>\n",
       "      <td>5qpjK5DgCt4</td>\n",
       "      <td>17.14.11</td>\n",
       "      <td>Racist Superman | Rudy Mancuso, King Bach &amp; Le...</td>\n",
       "      <td>Rudy Mancuso</td>\n",
       "      <td>23</td>\n",
       "      <td>2017-11-12T19:05:24.000Z</td>\n",
       "      <td>racist superman|\"rudy\"|\"mancuso\"|\"king\"|\"bach\"...</td>\n",
       "      <td>3191434</td>\n",
       "      <td>146035</td>\n",
       "      <td>5339</td>\n",
       "      <td>...</td>\n",
       "      <td>https://i.ytimg.com/vi/5qpjK5DgCt4/default.jpg</td>\n",
       "      <td>False</td>\n",
       "      <td>False</td>\n",
       "      <td>False</td>\n",
       "      <td>WATCH MY PREVIOUS VIDEO â¶ \\n\\nSUBSCRIBE âº ...</td>\n",
       "      <td>CA</td>\n",
       "      <td>Comedy</td>\n",
       "      <td>4.575843</td>\n",
       "      <td>0.167292</td>\n",
       "      <td>0.256342</td>\n",
       "    </tr>\n",
       "    <tr>\n",
       "      <th>3</th>\n",
       "      <td>d380meD0W0M</td>\n",
       "      <td>17.14.11</td>\n",
       "      <td>I Dare You: GOING BALD!?</td>\n",
       "      <td>nigahiga</td>\n",
       "      <td>24</td>\n",
       "      <td>2017-11-12T18:01:41.000Z</td>\n",
       "      <td>ryan|\"higa\"|\"higatv\"|\"nigahiga\"|\"i dare you\"|\"...</td>\n",
       "      <td>2095828</td>\n",
       "      <td>132239</td>\n",
       "      <td>1989</td>\n",
       "      <td>...</td>\n",
       "      <td>https://i.ytimg.com/vi/d380meD0W0M/default.jpg</td>\n",
       "      <td>False</td>\n",
       "      <td>False</td>\n",
       "      <td>False</td>\n",
       "      <td>I know it's been a while since we did this sho...</td>\n",
       "      <td>CA</td>\n",
       "      <td>Entertainment</td>\n",
       "      <td>6.309630</td>\n",
       "      <td>0.094903</td>\n",
       "      <td>0.835851</td>\n",
       "    </tr>\n",
       "    <tr>\n",
       "      <th>4</th>\n",
       "      <td>2Vv-BfVoq4g</td>\n",
       "      <td>17.14.11</td>\n",
       "      <td>Ed Sheeran - Perfect (Official Music Video)</td>\n",
       "      <td>Ed Sheeran</td>\n",
       "      <td>10</td>\n",
       "      <td>2017-11-09T11:04:14.000Z</td>\n",
       "      <td>edsheeran|\"ed sheeran\"|\"acoustic\"|\"live\"|\"cove...</td>\n",
       "      <td>33523622</td>\n",
       "      <td>1634130</td>\n",
       "      <td>21082</td>\n",
       "      <td>...</td>\n",
       "      <td>https://i.ytimg.com/vi/2Vv-BfVoq4g/default.jpg</td>\n",
       "      <td>False</td>\n",
       "      <td>False</td>\n",
       "      <td>False</td>\n",
       "      <td>ð§: https://ad.gt/yt-perfect\\nð°: https://...</td>\n",
       "      <td>CA</td>\n",
       "      <td>Music</td>\n",
       "      <td>4.874563</td>\n",
       "      <td>0.062887</td>\n",
       "      <td>0.253752</td>\n",
       "    </tr>\n",
       "  </tbody>\n",
       "</table>\n",
       "<p>5 rows × 21 columns</p>\n",
       "</div>"
      ],
      "text/plain": [
       "      video_id trending_date  \\\n",
       "0  n1WpP7iowLc      17.14.11   \n",
       "1  0dBIkQ4Mz1M      17.14.11   \n",
       "2  5qpjK5DgCt4      17.14.11   \n",
       "3  d380meD0W0M      17.14.11   \n",
       "4  2Vv-BfVoq4g      17.14.11   \n",
       "\n",
       "                                               title channel_title  \\\n",
       "0        Eminem - Walk On Water (Audio) ft. BeyoncÃ©    EminemVEVO   \n",
       "1                      PLUSH - Bad Unboxing Fan Mail     iDubbbzTV   \n",
       "2  Racist Superman | Rudy Mancuso, King Bach & Le...  Rudy Mancuso   \n",
       "3                           I Dare You: GOING BALD!?      nigahiga   \n",
       "4        Ed Sheeran - Perfect (Official Music Video)    Ed Sheeran   \n",
       "\n",
       "   category_id              publish_time  \\\n",
       "0           10  2017-11-10T17:00:03.000Z   \n",
       "1           23  2017-11-13T17:00:00.000Z   \n",
       "2           23  2017-11-12T19:05:24.000Z   \n",
       "3           24  2017-11-12T18:01:41.000Z   \n",
       "4           10  2017-11-09T11:04:14.000Z   \n",
       "\n",
       "                                                tags     views    likes  \\\n",
       "0  Eminem|\"Walk\"|\"On\"|\"Water\"|\"Aftermath/Shady/In...  17158579   787425   \n",
       "1  plush|\"bad unboxing\"|\"unboxing\"|\"fan mail\"|\"id...   1014651   127794   \n",
       "2  racist superman|\"rudy\"|\"mancuso\"|\"king\"|\"bach\"...   3191434   146035   \n",
       "3  ryan|\"higa\"|\"higatv\"|\"nigahiga\"|\"i dare you\"|\"...   2095828   132239   \n",
       "4  edsheeran|\"ed sheeran\"|\"acoustic\"|\"live\"|\"cove...  33523622  1634130   \n",
       "\n",
       "   dislikes  ...                                  thumbnail_link  \\\n",
       "0     43420  ...  https://i.ytimg.com/vi/n1WpP7iowLc/default.jpg   \n",
       "1      1688  ...  https://i.ytimg.com/vi/0dBIkQ4Mz1M/default.jpg   \n",
       "2      5339  ...  https://i.ytimg.com/vi/5qpjK5DgCt4/default.jpg   \n",
       "3      1989  ...  https://i.ytimg.com/vi/d380meD0W0M/default.jpg   \n",
       "4     21082  ...  https://i.ytimg.com/vi/2Vv-BfVoq4g/default.jpg   \n",
       "\n",
       "  comments_disabled  ratings_disabled  video_error_or_removed  \\\n",
       "0             False             False                   False   \n",
       "1             False             False                   False   \n",
       "2             False             False                   False   \n",
       "3             False             False                   False   \n",
       "4             False             False                   False   \n",
       "\n",
       "                                         description country   category_name  \\\n",
       "0  Eminem's new track Walk on Water ft. BeyoncÃ© ...      CA           Music   \n",
       "1  STill got a lot of packages. Probably will las...      CA          Comedy   \n",
       "2  WATCH MY PREVIOUS VIDEO â¶ \\n\\nSUBSCRIBE âº ...      CA          Comedy   \n",
       "3  I know it's been a while since we did this sho...      CA   Entertainment   \n",
       "4  ð§: https://ad.gt/yt-perfect\\nð°: https://...      CA           Music   \n",
       "\n",
       "   like_rate  dislike_rate  comment_rate  \n",
       "0   4.589104      0.253051      0.733639  \n",
       "1  12.594873      0.166363      1.284185  \n",
       "2   4.575843      0.167292      0.256342  \n",
       "3   6.309630      0.094903      0.835851  \n",
       "4   4.874563      0.062887      0.253752  \n",
       "\n",
       "[5 rows x 21 columns]"
      ]
     },
     "execution_count": 139,
     "metadata": {},
     "output_type": "execute_result"
    }
   ],
   "source": [
    "full_df.head()"
   ]
  },
  {
   "cell_type": "code",
   "execution_count": 140,
   "id": "c51ffc45",
   "metadata": {},
   "outputs": [
    {
     "data": {
      "text/plain": [
       "(array([ 0,  1,  2,  3,  4,  5,  6,  7,  8,  9, 10, 11, 12, 13, 14, 15, 16,\n",
       "        17]),\n",
       " [Text(0, 0, ' Music'),\n",
       "  Text(1, 0, ' Comedy'),\n",
       "  Text(2, 0, ' Entertainment'),\n",
       "  Text(3, 0, ' News & Politics'),\n",
       "  Text(4, 0, ' People & Blogs'),\n",
       "  Text(5, 0, ' Howto & Style'),\n",
       "  Text(6, 0, ' Film & Animation'),\n",
       "  Text(7, 0, ' Science & Technology'),\n",
       "  Text(8, 0, ' Gaming'),\n",
       "  Text(9, 0, ' Sports'),\n",
       "  Text(10, 0, ' Nonprofits & Activism'),\n",
       "  Text(11, 0, ' Pets & Animals'),\n",
       "  Text(12, 0, ' Travel & Events'),\n",
       "  Text(13, 0, ' Autos & Vehicles'),\n",
       "  Text(14, 0, ' Education'),\n",
       "  Text(15, 0, ' Shows'),\n",
       "  Text(16, 0, ' Movies'),\n",
       "  Text(17, 0, ' Trailers            ')])"
      ]
     },
     "execution_count": 140,
     "metadata": {},
     "output_type": "execute_result"
    },
    {
     "data": {
      "image/png": "[encoded data removed]",
      "text/plain": [
       "<Figure size 864x576 with 1 Axes>"
      ]
     },
     "metadata": {
      "needs_background": "light"
     },
     "output_type": "display_data"
    }
   ],
   "source": [
    "plt.figure(figsize=(12,8))\n",
    "sns.boxplot(x='category_name',y='like_rate',data=full_df)\n",
    "plt.xticks(rotation='vertical')"
   ]
  },
  {
   "cell_type": "code",
   "execution_count": 141,
   "id": "8424e04c",
   "metadata": {},
   "outputs": [
    {
     "data": {
      "text/plain": [
       "(array([ 0,  1,  2,  3,  4,  5,  6,  7,  8,  9, 10, 11, 12, 13, 14, 15, 16,\n",
       "        17]),\n",
       " [Text(0, 0, ' Music'),\n",
       "  Text(1, 0, ' Comedy'),\n",
       "  Text(2, 0, ' Entertainment'),\n",
       "  Text(3, 0, ' News & Politics'),\n",
       "  Text(4, 0, ' People & Blogs'),\n",
       "  Text(5, 0, ' Howto & Style'),\n",
       "  Text(6, 0, ' Film & Animation'),\n",
       "  Text(7, 0, ' Science & Technology'),\n",
       "  Text(8, 0, ' Gaming'),\n",
       "  Text(9, 0, ' Sports'),\n",
       "  Text(10, 0, ' Nonprofits & Activism'),\n",
       "  Text(11, 0, ' Pets & Animals'),\n",
       "  Text(12, 0, ' Travel & Events'),\n",
       "  Text(13, 0, ' Autos & Vehicles'),\n",
       "  Text(14, 0, ' Education'),\n",
       "  Text(15, 0, ' Shows'),\n",
       "  Text(16, 0, ' Movies'),\n",
       "  Text(17, 0, ' Trailers            ')])"
      ]
     },
     "execution_count": 141,
     "metadata": {},
     "output_type": "execute_result"
    },
    {
     "data": {
      "image/png": "[encoded data removed]",
      "text/plain": [
       "<Figure size 864x576 with 1 Axes>"
      ]
     },
     "metadata": {
      "needs_background": "light"
     },
     "output_type": "display_data"
    }
   ],
   "source": [
    "plt.figure(figsize=(12,8))\n",
    "sns.boxplot(x='category_name',y='dislike_rate',data=full_df)\n",
    "plt.xticks(rotation='vertical')"
   ]
  },
  {
   "cell_type": "code",
   "execution_count": 142,
   "id": "42b85eba",
   "metadata": {},
   "outputs": [
    {
     "data": {
      "text/plain": [
       "(array([ 0,  1,  2,  3,  4,  5,  6,  7,  8,  9, 10, 11, 12, 13, 14, 15, 16,\n",
       "        17]),\n",
       " [Text(0, 0, ' Music'),\n",
       "  Text(1, 0, ' Comedy'),\n",
       "  Text(2, 0, ' Entertainment'),\n",
       "  Text(3, 0, ' News & Politics'),\n",
       "  Text(4, 0, ' People & Blogs'),\n",
       "  Text(5, 0, ' Howto & Style'),\n",
       "  Text(6, 0, ' Film & Animation'),\n",
       "  Text(7, 0, ' Science & Technology'),\n",
       "  Text(8, 0, ' Gaming'),\n",
       "  Text(9, 0, ' Sports'),\n",
       "  Text(10, 0, ' Nonprofits & Activism'),\n",
       "  Text(11, 0, ' Pets & Animals'),\n",
       "  Text(12, 0, ' Travel & Events'),\n",
       "  Text(13, 0, ' Autos & Vehicles'),\n",
       "  Text(14, 0, ' Education'),\n",
       "  Text(15, 0, ' Shows'),\n",
       "  Text(16, 0, ' Movies'),\n",
       "  Text(17, 0, ' Trailers            ')])"
      ]
     },
     "execution_count": 142,
     "metadata": {},
     "output_type": "execute_result"
    },
    {
     "data": {
      "image/png": "[encoded data removed]",
      "text/plain": [
       "<Figure size 864x576 with 1 Axes>"
      ]
     },
     "metadata": {
      "needs_background": "light"
     },
     "output_type": "display_data"
    }
   ],
   "source": [
    "plt.figure(figsize=(12,8))\n",
    "sns.boxplot(x='category_name',y='comment_rate',data=full_df)\n",
    "plt.xticks(rotation='vertical')"
   ]
  },
  {
   "cell_type": "code",
   "execution_count": 143,
   "id": "efc80342",
   "metadata": {},
   "outputs": [
    {
     "data": {
      "text/plain": [
       "<AxesSubplot:xlabel='views', ylabel='likes'>"
      ]
     },
     "execution_count": 143,
     "metadata": {},
     "output_type": "execute_result"
    },
    {
     "data": {
      "image/png": "[encoded data removed]",
      "text/plain": [
       "<Figure size 432x288 with 1 Axes>"
      ]
     },
     "metadata": {
      "needs_background": "light"
     },
     "output_type": "display_data"
    }
   ],
   "source": [
    "sns.regplot(data=full_df,x='views',y='likes')"
   ]
  },
  {
   "cell_type": "code",
   "execution_count": 145,
   "id": "4222f257",
   "metadata": {},
   "outputs": [
    {
     "data": {
      "text/plain": [
       "<AxesSubplot:>"
      ]
     },
     "execution_count": 145,
     "metadata": {},
     "output_type": "execute_result"
    },
    {
     "data": {
      "image/png": "[encoded data removed]",
      "text/plain": [
       "<Figure size 432x288 with 2 Axes>"
      ]
     },
     "metadata": {
      "needs_background": "light"
     },
     "output_type": "display_data"
    }
   ],
   "source": [
    "sns.heatmap(full_df[['views','likes','dislikes']].corr(),annot=True)"
   ]
  },
  {
   "cell_type": "code",
   "execution_count": 146,
   "id": "b67410e8",
   "metadata": {},
   "outputs": [
    {
     "data": {
      "text/html": [
       "<div>\n",
       "<style scoped>\n",
       "    .dataframe tbody tr th:only-of-type {\n",
       "        vertical-align: middle;\n",
       "    }\n",
       "\n",
       "    .dataframe tbody tr th {\n",
       "        vertical-align: top;\n",
       "    }\n",
       "\n",
       "    .dataframe thead th {\n",
       "        text-align: right;\n",
       "    }\n",
       "</style>\n",
       "<table border=\"1\" class=\"dataframe\">\n",
       "  <thead>\n",
       "    <tr style=\"text-align: right;\">\n",
       "      <th></th>\n",
       "      <th>video_id</th>\n",
       "      <th>trending_date</th>\n",
       "      <th>title</th>\n",
       "      <th>channel_title</th>\n",
       "      <th>category_id</th>\n",
       "      <th>publish_time</th>\n",
       "      <th>tags</th>\n",
       "      <th>views</th>\n",
       "      <th>likes</th>\n",
       "      <th>dislikes</th>\n",
       "      <th>...</th>\n",
       "      <th>thumbnail_link</th>\n",
       "      <th>comments_disabled</th>\n",
       "      <th>ratings_disabled</th>\n",
       "      <th>video_error_or_removed</th>\n",
       "      <th>description</th>\n",
       "      <th>country</th>\n",
       "      <th>category_name</th>\n",
       "      <th>like_rate</th>\n",
       "      <th>dislike_rate</th>\n",
       "      <th>comment_rate</th>\n",
       "    </tr>\n",
       "  </thead>\n",
       "  <tbody>\n",
       "    <tr>\n",
       "      <th>0</th>\n",
       "      <td>n1WpP7iowLc</td>\n",
       "      <td>17.14.11</td>\n",
       "      <td>Eminem - Walk On Water (Audio) ft. BeyoncÃ©</td>\n",
       "      <td>EminemVEVO</td>\n",
       "      <td>10</td>\n",
       "      <td>2017-11-10T17:00:03.000Z</td>\n",
       "      <td>Eminem|\"Walk\"|\"On\"|\"Water\"|\"Aftermath/Shady/In...</td>\n",
       "      <td>17158579</td>\n",
       "      <td>787425</td>\n",
       "      <td>43420</td>\n",
       "      <td>...</td>\n",
       "      <td>https://i.ytimg.com/vi/n1WpP7iowLc/default.jpg</td>\n",
       "      <td>False</td>\n",
       "      <td>False</td>\n",
       "      <td>False</td>\n",
       "      <td>Eminem's new track Walk on Water ft. BeyoncÃ© ...</td>\n",
       "      <td>CA</td>\n",
       "      <td>Music</td>\n",
       "      <td>4.589104</td>\n",
       "      <td>0.253051</td>\n",
       "      <td>0.733639</td>\n",
       "    </tr>\n",
       "    <tr>\n",
       "      <th>1</th>\n",
       "      <td>0dBIkQ4Mz1M</td>\n",
       "      <td>17.14.11</td>\n",
       "      <td>PLUSH - Bad Unboxing Fan Mail</td>\n",
       "      <td>iDubbbzTV</td>\n",
       "      <td>23</td>\n",
       "      <td>2017-11-13T17:00:00.000Z</td>\n",
       "      <td>plush|\"bad unboxing\"|\"unboxing\"|\"fan mail\"|\"id...</td>\n",
       "      <td>1014651</td>\n",
       "      <td>127794</td>\n",
       "      <td>1688</td>\n",
       "      <td>...</td>\n",
       "      <td>https://i.ytimg.com/vi/0dBIkQ4Mz1M/default.jpg</td>\n",
       "      <td>False</td>\n",
       "      <td>False</td>\n",
       "      <td>False</td>\n",
       "      <td>STill got a lot of packages. Probably will las...</td>\n",
       "      <td>CA</td>\n",
       "      <td>Comedy</td>\n",
       "      <td>12.594873</td>\n",
       "      <td>0.166363</td>\n",
       "      <td>1.284185</td>\n",
       "    </tr>\n",
       "    <tr>\n",
       "      <th>2</th>\n",
       "      <td>5qpjK5DgCt4</td>\n",
       "      <td>17.14.11</td>\n",
       "      <td>Racist Superman | Rudy Mancuso, King Bach &amp; Le...</td>\n",
       "      <td>Rudy Mancuso</td>\n",
       "      <td>23</td>\n",
       "      <td>2017-11-12T19:05:24.000Z</td>\n",
       "      <td>racist superman|\"rudy\"|\"mancuso\"|\"king\"|\"bach\"...</td>\n",
       "      <td>3191434</td>\n",
       "      <td>146035</td>\n",
       "      <td>5339</td>\n",
       "      <td>...</td>\n",
       "      <td>https://i.ytimg.com/vi/5qpjK5DgCt4/default.jpg</td>\n",
       "      <td>False</td>\n",
       "      <td>False</td>\n",
       "      <td>False</td>\n",
       "      <td>WATCH MY PREVIOUS VIDEO â¶ \\n\\nSUBSCRIBE âº ...</td>\n",
       "      <td>CA</td>\n",
       "      <td>Comedy</td>\n",
       "      <td>4.575843</td>\n",
       "      <td>0.167292</td>\n",
       "      <td>0.256342</td>\n",
       "    </tr>\n",
       "  </tbody>\n",
       "</table>\n",
       "<p>3 rows × 21 columns</p>\n",
       "</div>"
      ],
      "text/plain": [
       "      video_id trending_date  \\\n",
       "0  n1WpP7iowLc      17.14.11   \n",
       "1  0dBIkQ4Mz1M      17.14.11   \n",
       "2  5qpjK5DgCt4      17.14.11   \n",
       "\n",
       "                                               title channel_title  \\\n",
       "0        Eminem - Walk On Water (Audio) ft. BeyoncÃ©    EminemVEVO   \n",
       "1                      PLUSH - Bad Unboxing Fan Mail     iDubbbzTV   \n",
       "2  Racist Superman | Rudy Mancuso, King Bach & Le...  Rudy Mancuso   \n",
       "\n",
       "   category_id              publish_time  \\\n",
       "0           10  2017-11-10T17:00:03.000Z   \n",
       "1           23  2017-11-13T17:00:00.000Z   \n",
       "2           23  2017-11-12T19:05:24.000Z   \n",
       "\n",
       "                                                tags     views   likes  \\\n",
       "0  Eminem|\"Walk\"|\"On\"|\"Water\"|\"Aftermath/Shady/In...  17158579  787425   \n",
       "1  plush|\"bad unboxing\"|\"unboxing\"|\"fan mail\"|\"id...   1014651  127794   \n",
       "2  racist superman|\"rudy\"|\"mancuso\"|\"king\"|\"bach\"...   3191434  146035   \n",
       "\n",
       "   dislikes  ...                                  thumbnail_link  \\\n",
       "0     43420  ...  https://i.ytimg.com/vi/n1WpP7iowLc/default.jpg   \n",
       "1      1688  ...  https://i.ytimg.com/vi/0dBIkQ4Mz1M/default.jpg   \n",
       "2      5339  ...  https://i.ytimg.com/vi/5qpjK5DgCt4/default.jpg   \n",
       "\n",
       "  comments_disabled  ratings_disabled  video_error_or_removed  \\\n",
       "0             False             False                   False   \n",
       "1             False             False                   False   \n",
       "2             False             False                   False   \n",
       "\n",
       "                                         description country category_name  \\\n",
       "0  Eminem's new track Walk on Water ft. BeyoncÃ© ...      CA         Music   \n",
       "1  STill got a lot of packages. Probably will las...      CA        Comedy   \n",
       "2  WATCH MY PREVIOUS VIDEO â¶ \\n\\nSUBSCRIBE âº ...      CA        Comedy   \n",
       "\n",
       "   like_rate  dislike_rate  comment_rate  \n",
       "0   4.589104      0.253051      0.733639  \n",
       "1  12.594873      0.166363      1.284185  \n",
       "2   4.575843      0.167292      0.256342  \n",
       "\n",
       "[3 rows x 21 columns]"
      ]
     },
     "execution_count": 146,
     "metadata": {},
     "output_type": "execute_result"
    }
   ],
   "source": [
    "full_df.head(3)"
   ]
  },
  {
   "cell_type": "code",
   "execution_count": 147,
   "id": "00390f75",
   "metadata": {},
   "outputs": [
    {
     "data": {
      "text/plain": [
       "<AxesSubplot:xlabel='views', ylabel='likes'>"
      ]
     },
     "execution_count": 147,
     "metadata": {},
     "output_type": "execute_result"
    },
    {
     "data": {
      "image/png": "[encoded data removed]",
      "text/plain": [
       "<Figure size 432x288 with 1 Axes>"
      ]
     },
     "metadata": {
      "needs_background": "light"
     },
     "output_type": "display_data"
    }
   ],
   "source": [
    "sns.scatterplot(x='views',y='likes',data=full_df)"
   ]
  },
  {
   "cell_type": "code",
   "execution_count": 148,
   "id": "04046c1f",
   "metadata": {},
   "outputs": [],
   "source": [
    "## 7..Which channels have the largest number of trending videos?"
   ]
  },
  {
   "cell_type": "code",
   "execution_count": 167,
   "id": "d0cae432",
   "metadata": {},
   "outputs": [],
   "source": [
    "cdf = full_df.groupby('channel_title')['video_id'].count().sort_values(ascending=False).to_frame().reset_index().rename(columns={'video_id':'total_videos'})"
   ]
  },
  {
   "cell_type": "code",
   "execution_count": 155,
   "id": "958f5b24",
   "metadata": {},
   "outputs": [
    {
     "name": "stdout",
     "output_type": "stream",
     "text": [
      "Requirement already satisfied: plotly in c:\\python310\\lib\\site-packages (5.10.0)\n",
      "Requirement already satisfied: tenacity>=6.2.0 in c:\\python310\\lib\\site-packages (from plotly) (8.1.0)\n"
     ]
    },
    {
     "name": "stderr",
     "output_type": "stream",
     "text": [
      "WARNING: Ignoring invalid distribution -ip (c:\\python310\\lib\\site-packages)\n",
      "WARNING: Ignoring invalid distribution - (c:\\python310\\lib\\site-packages)\n",
      "WARNING: Ignoring invalid distribution -ip (c:\\python310\\lib\\site-packages)\n",
      "WARNING: Ignoring invalid distribution - (c:\\python310\\lib\\site-packages)\n",
      "WARNING: Ignoring invalid distribution -ip (c:\\python310\\lib\\site-packages)\n",
      "WARNING: Ignoring invalid distribution - (c:\\python310\\lib\\site-packages)\n",
      "WARNING: Ignoring invalid distribution -ip (c:\\python310\\lib\\site-packages)\n",
      "WARNING: Ignoring invalid distribution - (c:\\python310\\lib\\site-packages)\n"
     ]
    }
   ],
   "source": [
    "# import plotly.express as px\n",
    "!pip install plotly"
   ]
  },
  {
   "cell_type": "code",
   "execution_count": 168,
   "id": "4a4ee283",
   "metadata": {},
   "outputs": [],
   "source": [
    "# import plotly.express as px"
   ]
  },
  {
   "cell_type": "code",
   "execution_count": 169,
   "id": "b16222fd",
   "metadata": {},
   "outputs": [],
   "source": [
    "# px.bar(data_frame=cdf[0:20],x='channel_title',y='total_videos')"
   ]
  },
  {
   "cell_type": "code",
   "execution_count": 170,
   "id": "0af0719e",
   "metadata": {},
   "outputs": [
    {
     "data": {
      "text/plain": [
       "<BarContainer object of 37824 artists>"
      ]
     },
     "execution_count": 170,
     "metadata": {},
     "output_type": "execute_result"
    },
    {
     "name": "stderr",
     "output_type": "stream",
     "text": [
      "c:\\python37\\lib\\site-packages\\matplotlib\\backends\\backend_agg.py:240: RuntimeWarning: Glyph 135 missing from current font.\n",
      "  font.set_text(s, 0.0, flags=flags)\n",
      "c:\\python37\\lib\\site-packages\\matplotlib\\backends\\backend_agg.py:240: RuntimeWarning: Glyph 144 missing from current font.\n",
      "  font.set_text(s, 0.0, flags=flags)\n",
      "c:\\python37\\lib\\site-packages\\matplotlib\\backends\\backend_agg.py:240: RuntimeWarning: Glyph 130 missing from current font.\n",
      "  font.set_text(s, 0.0, flags=flags)\n",
      "c:\\python37\\lib\\site-packages\\matplotlib\\backends\\backend_agg.py:240: RuntimeWarning: Glyph 128 missing from current font.\n",
      "  font.set_text(s, 0.0, flags=flags)\n",
      "c:\\python37\\lib\\site-packages\\matplotlib\\backends\\backend_agg.py:240: RuntimeWarning: Glyph 129 missing from current font.\n",
      "  font.set_text(s, 0.0, flags=flags)\n",
      "c:\\python37\\lib\\site-packages\\matplotlib\\backends\\backend_agg.py:240: RuntimeWarning: Glyph 143 missing from current font.\n",
      "  font.set_text(s, 0.0, flags=flags)\n",
      "c:\\python37\\lib\\site-packages\\matplotlib\\backends\\backend_agg.py:240: RuntimeWarning: Glyph 155 missing from current font.\n",
      "  font.set_text(s, 0.0, flags=flags)\n",
      "c:\\python37\\lib\\site-packages\\matplotlib\\backends\\backend_agg.py:240: RuntimeWarning: Glyph 141 missing from current font.\n",
      "  font.set_text(s, 0.0, flags=flags)\n",
      "c:\\python37\\lib\\site-packages\\matplotlib\\backends\\backend_agg.py:240: RuntimeWarning: Glyph 148 missing from current font.\n",
      "  font.set_text(s, 0.0, flags=flags)\n",
      "c:\\python37\\lib\\site-packages\\matplotlib\\backends\\backend_agg.py:240: RuntimeWarning: Glyph 157 missing from current font.\n",
      "  font.set_text(s, 0.0, flags=flags)\n",
      "c:\\python37\\lib\\site-packages\\matplotlib\\backends\\backend_agg.py:240: RuntimeWarning: Glyph 152 missing from current font.\n",
      "  font.set_text(s, 0.0, flags=flags)\n",
      "c:\\python37\\lib\\site-packages\\matplotlib\\backends\\backend_agg.py:240: RuntimeWarning: Glyph 158 missing from current font.\n",
      "  font.set_text(s, 0.0, flags=flags)\n",
      "c:\\python37\\lib\\site-packages\\matplotlib\\backends\\backend_agg.py:240: RuntimeWarning: Glyph 139 missing from current font.\n",
      "  font.set_text(s, 0.0, flags=flags)\n",
      "c:\\python37\\lib\\site-packages\\matplotlib\\backends\\backend_agg.py:240: RuntimeWarning: Glyph 149 missing from current font.\n",
      "  font.set_text(s, 0.0, flags=flags)\n",
      "c:\\python37\\lib\\site-packages\\matplotlib\\backends\\backend_agg.py:240: RuntimeWarning: Glyph 156 missing from current font.\n",
      "  font.set_text(s, 0.0, flags=flags)\n",
      "c:\\python37\\lib\\site-packages\\matplotlib\\backends\\backend_agg.py:240: RuntimeWarning: Glyph 136 missing from current font.\n",
      "  font.set_text(s, 0.0, flags=flags)\n",
      "c:\\python37\\lib\\site-packages\\matplotlib\\backends\\backend_agg.py:240: RuntimeWarning: Glyph 132 missing from current font.\n",
      "  font.set_text(s, 0.0, flags=flags)\n",
      "c:\\python37\\lib\\site-packages\\matplotlib\\backends\\backend_agg.py:240: RuntimeWarning: Glyph 137 missing from current font.\n",
      "  font.set_text(s, 0.0, flags=flags)\n",
      "c:\\python37\\lib\\site-packages\\matplotlib\\backends\\backend_agg.py:240: RuntimeWarning: Glyph 153 missing from current font.\n",
      "  font.set_text(s, 0.0, flags=flags)\n",
      "c:\\python37\\lib\\site-packages\\matplotlib\\backends\\backend_agg.py:240: RuntimeWarning: Glyph 138 missing from current font.\n",
      "  font.set_text(s, 0.0, flags=flags)\n",
      "c:\\python37\\lib\\site-packages\\matplotlib\\backends\\backend_agg.py:240: RuntimeWarning: Glyph 146 missing from current font.\n",
      "  font.set_text(s, 0.0, flags=flags)\n",
      "c:\\python37\\lib\\site-packages\\matplotlib\\backends\\backend_agg.py:240: RuntimeWarning: Glyph 150 missing from current font.\n",
      "  font.set_text(s, 0.0, flags=flags)\n",
      "c:\\python37\\lib\\site-packages\\matplotlib\\backends\\backend_agg.py:240: RuntimeWarning: Glyph 151 missing from current font.\n",
      "  font.set_text(s, 0.0, flags=flags)\n",
      "c:\\python37\\lib\\site-packages\\matplotlib\\backends\\backend_agg.py:240: RuntimeWarning: Glyph 134 missing from current font.\n",
      "  font.set_text(s, 0.0, flags=flags)\n",
      "c:\\python37\\lib\\site-packages\\matplotlib\\backends\\backend_agg.py:240: RuntimeWarning: Glyph 145 missing from current font.\n",
      "  font.set_text(s, 0.0, flags=flags)\n",
      "c:\\python37\\lib\\site-packages\\matplotlib\\backends\\backend_agg.py:240: RuntimeWarning: Glyph 147 missing from current font.\n",
      "  font.set_text(s, 0.0, flags=flags)\n",
      "c:\\python37\\lib\\site-packages\\matplotlib\\backends\\backend_agg.py:240: RuntimeWarning: Glyph 133 missing from current font.\n",
      "  font.set_text(s, 0.0, flags=flags)\n",
      "c:\\python37\\lib\\site-packages\\matplotlib\\backends\\backend_agg.py:240: RuntimeWarning: Glyph 159 missing from current font.\n",
      "  font.set_text(s, 0.0, flags=flags)\n",
      "c:\\python37\\lib\\site-packages\\matplotlib\\backends\\backend_agg.py:240: RuntimeWarning: Glyph 131 missing from current font.\n",
      "  font.set_text(s, 0.0, flags=flags)\n",
      "c:\\python37\\lib\\site-packages\\matplotlib\\backends\\backend_agg.py:240: RuntimeWarning: Glyph 154 missing from current font.\n",
      "  font.set_text(s, 0.0, flags=flags)\n",
      "c:\\python37\\lib\\site-packages\\matplotlib\\backends\\backend_agg.py:240: RuntimeWarning: Glyph 140 missing from current font.\n",
      "  font.set_text(s, 0.0, flags=flags)\n",
      "c:\\python37\\lib\\site-packages\\matplotlib\\backends\\backend_agg.py:240: RuntimeWarning: Glyph 142 missing from current font.\n",
      "  font.set_text(s, 0.0, flags=flags)\n",
      "c:\\python37\\lib\\site-packages\\matplotlib\\backends\\backend_agg.py:203: RuntimeWarning: Glyph 135 missing from current font.\n",
      "  font.set_text(s, 0, flags=flags)\n",
      "c:\\python37\\lib\\site-packages\\matplotlib\\backends\\backend_agg.py:203: RuntimeWarning: Glyph 144 missing from current font.\n",
      "  font.set_text(s, 0, flags=flags)\n",
      "c:\\python37\\lib\\site-packages\\matplotlib\\backends\\backend_agg.py:203: RuntimeWarning: Glyph 130 missing from current font.\n",
      "  font.set_text(s, 0, flags=flags)\n",
      "c:\\python37\\lib\\site-packages\\matplotlib\\backends\\backend_agg.py:203: RuntimeWarning: Glyph 128 missing from current font.\n",
      "  font.set_text(s, 0, flags=flags)\n",
      "c:\\python37\\lib\\site-packages\\matplotlib\\backends\\backend_agg.py:203: RuntimeWarning: Glyph 129 missing from current font.\n",
      "  font.set_text(s, 0, flags=flags)\n",
      "c:\\python37\\lib\\site-packages\\matplotlib\\backends\\backend_agg.py:203: RuntimeWarning: Glyph 143 missing from current font.\n",
      "  font.set_text(s, 0, flags=flags)\n",
      "c:\\python37\\lib\\site-packages\\matplotlib\\backends\\backend_agg.py:203: RuntimeWarning: Glyph 155 missing from current font.\n",
      "  font.set_text(s, 0, flags=flags)\n",
      "c:\\python37\\lib\\site-packages\\matplotlib\\backends\\backend_agg.py:203: RuntimeWarning: Glyph 141 missing from current font.\n",
      "  font.set_text(s, 0, flags=flags)\n",
      "c:\\python37\\lib\\site-packages\\matplotlib\\backends\\backend_agg.py:203: RuntimeWarning: Glyph 148 missing from current font.\n",
      "  font.set_text(s, 0, flags=flags)\n",
      "c:\\python37\\lib\\site-packages\\matplotlib\\backends\\backend_agg.py:203: RuntimeWarning: Glyph 157 missing from current font.\n",
      "  font.set_text(s, 0, flags=flags)\n",
      "c:\\python37\\lib\\site-packages\\matplotlib\\backends\\backend_agg.py:203: RuntimeWarning: Glyph 152 missing from current font.\n",
      "  font.set_text(s, 0, flags=flags)\n",
      "c:\\python37\\lib\\site-packages\\matplotlib\\backends\\backend_agg.py:203: RuntimeWarning: Glyph 158 missing from current font.\n",
      "  font.set_text(s, 0, flags=flags)\n",
      "c:\\python37\\lib\\site-packages\\matplotlib\\backends\\backend_agg.py:203: RuntimeWarning: Glyph 139 missing from current font.\n",
      "  font.set_text(s, 0, flags=flags)\n",
      "c:\\python37\\lib\\site-packages\\matplotlib\\backends\\backend_agg.py:203: RuntimeWarning: Glyph 149 missing from current font.\n",
      "  font.set_text(s, 0, flags=flags)\n",
      "c:\\python37\\lib\\site-packages\\matplotlib\\backends\\backend_agg.py:203: RuntimeWarning: Glyph 156 missing from current font.\n",
      "  font.set_text(s, 0, flags=flags)\n",
      "c:\\python37\\lib\\site-packages\\matplotlib\\backends\\backend_agg.py:203: RuntimeWarning: Glyph 136 missing from current font.\n",
      "  font.set_text(s, 0, flags=flags)\n",
      "c:\\python37\\lib\\site-packages\\matplotlib\\backends\\backend_agg.py:203: RuntimeWarning: Glyph 132 missing from current font.\n",
      "  font.set_text(s, 0, flags=flags)\n",
      "c:\\python37\\lib\\site-packages\\matplotlib\\backends\\backend_agg.py:203: RuntimeWarning: Glyph 137 missing from current font.\n",
      "  font.set_text(s, 0, flags=flags)\n",
      "c:\\python37\\lib\\site-packages\\matplotlib\\backends\\backend_agg.py:203: RuntimeWarning: Glyph 153 missing from current font.\n",
      "  font.set_text(s, 0, flags=flags)\n",
      "c:\\python37\\lib\\site-packages\\matplotlib\\backends\\backend_agg.py:203: RuntimeWarning: Glyph 138 missing from current font.\n",
      "  font.set_text(s, 0, flags=flags)\n",
      "c:\\python37\\lib\\site-packages\\matplotlib\\backends\\backend_agg.py:203: RuntimeWarning: Glyph 146 missing from current font.\n",
      "  font.set_text(s, 0, flags=flags)\n",
      "c:\\python37\\lib\\site-packages\\matplotlib\\backends\\backend_agg.py:203: RuntimeWarning: Glyph 150 missing from current font.\n",
      "  font.set_text(s, 0, flags=flags)\n",
      "c:\\python37\\lib\\site-packages\\matplotlib\\backends\\backend_agg.py:203: RuntimeWarning: Glyph 151 missing from current font.\n",
      "  font.set_text(s, 0, flags=flags)\n",
      "c:\\python37\\lib\\site-packages\\matplotlib\\backends\\backend_agg.py:203: RuntimeWarning: Glyph 134 missing from current font.\n",
      "  font.set_text(s, 0, flags=flags)\n",
      "c:\\python37\\lib\\site-packages\\matplotlib\\backends\\backend_agg.py:203: RuntimeWarning: Glyph 145 missing from current font.\n",
      "  font.set_text(s, 0, flags=flags)\n",
      "c:\\python37\\lib\\site-packages\\matplotlib\\backends\\backend_agg.py:203: RuntimeWarning: Glyph 147 missing from current font.\n",
      "  font.set_text(s, 0, flags=flags)\n",
      "c:\\python37\\lib\\site-packages\\matplotlib\\backends\\backend_agg.py:203: RuntimeWarning: Glyph 133 missing from current font.\n",
      "  font.set_text(s, 0, flags=flags)\n",
      "c:\\python37\\lib\\site-packages\\matplotlib\\backends\\backend_agg.py:203: RuntimeWarning: Glyph 159 missing from current font.\n",
      "  font.set_text(s, 0, flags=flags)\n",
      "c:\\python37\\lib\\site-packages\\matplotlib\\backends\\backend_agg.py:203: RuntimeWarning: Glyph 131 missing from current font.\n",
      "  font.set_text(s, 0, flags=flags)\n",
      "c:\\python37\\lib\\site-packages\\matplotlib\\backends\\backend_agg.py:203: RuntimeWarning: Glyph 154 missing from current font.\n",
      "  font.set_text(s, 0, flags=flags)\n",
      "c:\\python37\\lib\\site-packages\\matplotlib\\backends\\backend_agg.py:203: RuntimeWarning: Glyph 140 missing from current font.\n",
      "  font.set_text(s, 0, flags=flags)\n",
      "c:\\python37\\lib\\site-packages\\matplotlib\\backends\\backend_agg.py:203: RuntimeWarning: Glyph 142 missing from current font.\n",
      "  font.set_text(s, 0, flags=flags)\n"
     ]
    },
    {
     "data": {
      "image/png": "[encoded data removed]",
      "text/plain": [
       "<Figure size 432x288 with 1 Axes>"
      ]
     },
     "metadata": {
      "needs_background": "light"
     },
     "output_type": "display_data"
    }
   ],
   "source": [
    "plt.bar(cdf['channel_title'], cdf['total_videos'], color ='maroon',width = 0.4)"
   ]
  },
  {
   "cell_type": "code",
   "execution_count": 178,
   "id": "9d8a5de2",
   "metadata": {},
   "outputs": [],
   "source": [
    "# plt.xlabel(\"Channel Title\")\n",
    "# plt.ylabel(\"Total video\")\n",
    "# plt.title(\"Youtube data analysis\")\n",
    "# plt.show()"
   ]
  },
  {
   "cell_type": "code",
   "execution_count": 172,
   "id": "a7d0ad6d",
   "metadata": {},
   "outputs": [],
   "source": [
    "## 8..Does Punctuations in title and tags have any relation with views, likes, dislikes comments?"
   ]
  },
  {
   "cell_type": "code",
   "execution_count": 173,
   "id": "7fc73ee6",
   "metadata": {},
   "outputs": [],
   "source": [
    "import string"
   ]
  },
  {
   "cell_type": "code",
   "execution_count": 174,
   "id": "74f65e2c",
   "metadata": {},
   "outputs": [
    {
     "data": {
      "text/plain": [
       "'!\"#$%&\\'()*+,-./:;<=>?@[\\\\]^_`{|}~'"
      ]
     },
     "execution_count": 174,
     "metadata": {},
     "output_type": "execute_result"
    }
   ],
   "source": [
    "string.punctuation"
   ]
  },
  {
   "cell_type": "code",
   "execution_count": 175,
   "id": "d01ec5f1",
   "metadata": {},
   "outputs": [],
   "source": [
    "def punc_count(x):\n",
    "    return len([c for c in x if c in string.punctuation])"
   ]
  },
  {
   "cell_type": "code",
   "execution_count": 176,
   "id": "50cb993a",
   "metadata": {},
   "outputs": [
    {
     "data": {
      "text/plain": [
       "0          Eminem - Walk On Water (Audio) ft. BeyoncÃ©\n",
       "0    Sing zu Ende! | Gesangseinlagen vom Feinsten |...\n",
       "0             Malika LePen : Femme de Gauche - Trailer\n",
       "0        John Lewis Christmas Ad 2017 - #MozTheMonster\n",
       "0    Sharry Mann: Cute Munda ( Song Teaser) | Parmi...\n",
       "0    é¸èªããªãåç´ã«è½ä¸ï¼è·¯ä¸ã®è»ã...\n",
       "0             ì¢ì by ë¯¼ì_ì¤ì¢\n",
       "ì _ì¢ë ëµê°\n",
       "0                       CapÃ­tulo 12 | MasterChef 2017\n",
       "0    ÐÐ°Ñ\n",
       "Ð°Ñ Ð¸ ÐÐ¾Ð»Ð¸Ð½Ð° ÑÑÐ°ÑÑÑ ÑÐºÐ¾...\n",
       "0                   WE WANT TO TALK ABOUT OUR MARRIAGE\n",
       "Name: title, dtype: object"
      ]
     },
     "execution_count": 176,
     "metadata": {},
     "output_type": "execute_result"
    }
   ],
   "source": [
    "full_df['title'][0]"
   ]
  },
  {
   "cell_type": "code",
   "execution_count": 179,
   "id": "436194f7",
   "metadata": {},
   "outputs": [],
   "source": [
    "text='Eminem - Walk On Water (Audio) ft. BeyoncÃ©'"
   ]
  },
  {
   "cell_type": "code",
   "execution_count": 180,
   "id": "0381bbf6",
   "metadata": {},
   "outputs": [
    {
     "data": {
      "text/plain": [
       "4"
      ]
     },
     "execution_count": 180,
     "metadata": {},
     "output_type": "execute_result"
    }
   ],
   "source": [
    "punc_count(text)"
   ]
  },
  {
   "cell_type": "code",
   "execution_count": 181,
   "id": "ba6f723d",
   "metadata": {},
   "outputs": [],
   "source": [
    "sample=full_df[0:10000]"
   ]
  },
  {
   "cell_type": "code",
   "execution_count": 182,
   "id": "3cfb9d2c",
   "metadata": {},
   "outputs": [
    {
     "name": "stderr",
     "output_type": "stream",
     "text": [
      "c:\\python37\\lib\\site-packages\\ipykernel_launcher.py:1: SettingWithCopyWarning: \n",
      "A value is trying to be set on a copy of a slice from a DataFrame.\n",
      "Try using .loc[row_indexer,col_indexer] = value instead\n",
      "\n",
      "See the caveats in the documentation: https://pandas.pydata.org/pandas-docs/stable/user_guide/indexing.html#returning-a-view-versus-a-copy\n",
      "  \"\"\"Entry point for launching an IPython kernel.\n"
     ]
    }
   ],
   "source": [
    "sample['count_punc']=sample['title'].apply(punc_count)"
   ]
  },
  {
   "cell_type": "code",
   "execution_count": 183,
   "id": "e5d3a7f3",
   "metadata": {},
   "outputs": [
    {
     "data": {
      "text/html": [
       "<div>\n",
       "<style scoped>\n",
       "    .dataframe tbody tr th:only-of-type {\n",
       "        vertical-align: middle;\n",
       "    }\n",
       "\n",
       "    .dataframe tbody tr th {\n",
       "        vertical-align: top;\n",
       "    }\n",
       "\n",
       "    .dataframe thead th {\n",
       "        text-align: right;\n",
       "    }\n",
       "</style>\n",
       "<table border=\"1\" class=\"dataframe\">\n",
       "  <thead>\n",
       "    <tr style=\"text-align: right;\">\n",
       "      <th></th>\n",
       "      <th>video_id</th>\n",
       "      <th>trending_date</th>\n",
       "      <th>title</th>\n",
       "      <th>channel_title</th>\n",
       "      <th>category_id</th>\n",
       "      <th>publish_time</th>\n",
       "      <th>tags</th>\n",
       "      <th>views</th>\n",
       "      <th>likes</th>\n",
       "      <th>dislikes</th>\n",
       "      <th>...</th>\n",
       "      <th>comments_disabled</th>\n",
       "      <th>ratings_disabled</th>\n",
       "      <th>video_error_or_removed</th>\n",
       "      <th>description</th>\n",
       "      <th>country</th>\n",
       "      <th>category_name</th>\n",
       "      <th>like_rate</th>\n",
       "      <th>dislike_rate</th>\n",
       "      <th>comment_rate</th>\n",
       "      <th>count_punc</th>\n",
       "    </tr>\n",
       "  </thead>\n",
       "  <tbody>\n",
       "    <tr>\n",
       "      <th>0</th>\n",
       "      <td>n1WpP7iowLc</td>\n",
       "      <td>17.14.11</td>\n",
       "      <td>Eminem - Walk On Water (Audio) ft. BeyoncÃ©</td>\n",
       "      <td>EminemVEVO</td>\n",
       "      <td>10</td>\n",
       "      <td>2017-11-10T17:00:03.000Z</td>\n",
       "      <td>Eminem|\"Walk\"|\"On\"|\"Water\"|\"Aftermath/Shady/In...</td>\n",
       "      <td>17158579</td>\n",
       "      <td>787425</td>\n",
       "      <td>43420</td>\n",
       "      <td>...</td>\n",
       "      <td>False</td>\n",
       "      <td>False</td>\n",
       "      <td>False</td>\n",
       "      <td>Eminem's new track Walk on Water ft. BeyoncÃ© ...</td>\n",
       "      <td>CA</td>\n",
       "      <td>Music</td>\n",
       "      <td>4.589104</td>\n",
       "      <td>0.253051</td>\n",
       "      <td>0.733639</td>\n",
       "      <td>4</td>\n",
       "    </tr>\n",
       "    <tr>\n",
       "      <th>1</th>\n",
       "      <td>0dBIkQ4Mz1M</td>\n",
       "      <td>17.14.11</td>\n",
       "      <td>PLUSH - Bad Unboxing Fan Mail</td>\n",
       "      <td>iDubbbzTV</td>\n",
       "      <td>23</td>\n",
       "      <td>2017-11-13T17:00:00.000Z</td>\n",
       "      <td>plush|\"bad unboxing\"|\"unboxing\"|\"fan mail\"|\"id...</td>\n",
       "      <td>1014651</td>\n",
       "      <td>127794</td>\n",
       "      <td>1688</td>\n",
       "      <td>...</td>\n",
       "      <td>False</td>\n",
       "      <td>False</td>\n",
       "      <td>False</td>\n",
       "      <td>STill got a lot of packages. Probably will las...</td>\n",
       "      <td>CA</td>\n",
       "      <td>Comedy</td>\n",
       "      <td>12.594873</td>\n",
       "      <td>0.166363</td>\n",
       "      <td>1.284185</td>\n",
       "      <td>1</td>\n",
       "    </tr>\n",
       "    <tr>\n",
       "      <th>2</th>\n",
       "      <td>5qpjK5DgCt4</td>\n",
       "      <td>17.14.11</td>\n",
       "      <td>Racist Superman | Rudy Mancuso, King Bach &amp; Le...</td>\n",
       "      <td>Rudy Mancuso</td>\n",
       "      <td>23</td>\n",
       "      <td>2017-11-12T19:05:24.000Z</td>\n",
       "      <td>racist superman|\"rudy\"|\"mancuso\"|\"king\"|\"bach\"...</td>\n",
       "      <td>3191434</td>\n",
       "      <td>146035</td>\n",
       "      <td>5339</td>\n",
       "      <td>...</td>\n",
       "      <td>False</td>\n",
       "      <td>False</td>\n",
       "      <td>False</td>\n",
       "      <td>WATCH MY PREVIOUS VIDEO â¶ \\n\\nSUBSCRIBE âº ...</td>\n",
       "      <td>CA</td>\n",
       "      <td>Comedy</td>\n",
       "      <td>4.575843</td>\n",
       "      <td>0.167292</td>\n",
       "      <td>0.256342</td>\n",
       "      <td>3</td>\n",
       "    </tr>\n",
       "    <tr>\n",
       "      <th>3</th>\n",
       "      <td>d380meD0W0M</td>\n",
       "      <td>17.14.11</td>\n",
       "      <td>I Dare You: GOING BALD!?</td>\n",
       "      <td>nigahiga</td>\n",
       "      <td>24</td>\n",
       "      <td>2017-11-12T18:01:41.000Z</td>\n",
       "      <td>ryan|\"higa\"|\"higatv\"|\"nigahiga\"|\"i dare you\"|\"...</td>\n",
       "      <td>2095828</td>\n",
       "      <td>132239</td>\n",
       "      <td>1989</td>\n",
       "      <td>...</td>\n",
       "      <td>False</td>\n",
       "      <td>False</td>\n",
       "      <td>False</td>\n",
       "      <td>I know it's been a while since we did this sho...</td>\n",
       "      <td>CA</td>\n",
       "      <td>Entertainment</td>\n",
       "      <td>6.309630</td>\n",
       "      <td>0.094903</td>\n",
       "      <td>0.835851</td>\n",
       "      <td>3</td>\n",
       "    </tr>\n",
       "    <tr>\n",
       "      <th>4</th>\n",
       "      <td>2Vv-BfVoq4g</td>\n",
       "      <td>17.14.11</td>\n",
       "      <td>Ed Sheeran - Perfect (Official Music Video)</td>\n",
       "      <td>Ed Sheeran</td>\n",
       "      <td>10</td>\n",
       "      <td>2017-11-09T11:04:14.000Z</td>\n",
       "      <td>edsheeran|\"ed sheeran\"|\"acoustic\"|\"live\"|\"cove...</td>\n",
       "      <td>33523622</td>\n",
       "      <td>1634130</td>\n",
       "      <td>21082</td>\n",
       "      <td>...</td>\n",
       "      <td>False</td>\n",
       "      <td>False</td>\n",
       "      <td>False</td>\n",
       "      <td>ð§: https://ad.gt/yt-perfect\\nð°: https://...</td>\n",
       "      <td>CA</td>\n",
       "      <td>Music</td>\n",
       "      <td>4.874563</td>\n",
       "      <td>0.062887</td>\n",
       "      <td>0.253752</td>\n",
       "      <td>3</td>\n",
       "    </tr>\n",
       "  </tbody>\n",
       "</table>\n",
       "<p>5 rows × 22 columns</p>\n",
       "</div>"
      ],
      "text/plain": [
       "      video_id trending_date  \\\n",
       "0  n1WpP7iowLc      17.14.11   \n",
       "1  0dBIkQ4Mz1M      17.14.11   \n",
       "2  5qpjK5DgCt4      17.14.11   \n",
       "3  d380meD0W0M      17.14.11   \n",
       "4  2Vv-BfVoq4g      17.14.11   \n",
       "\n",
       "                                               title channel_title  \\\n",
       "0        Eminem - Walk On Water (Audio) ft. BeyoncÃ©    EminemVEVO   \n",
       "1                      PLUSH - Bad Unboxing Fan Mail     iDubbbzTV   \n",
       "2  Racist Superman | Rudy Mancuso, King Bach & Le...  Rudy Mancuso   \n",
       "3                           I Dare You: GOING BALD!?      nigahiga   \n",
       "4        Ed Sheeran - Perfect (Official Music Video)    Ed Sheeran   \n",
       "\n",
       "   category_id              publish_time  \\\n",
       "0           10  2017-11-10T17:00:03.000Z   \n",
       "1           23  2017-11-13T17:00:00.000Z   \n",
       "2           23  2017-11-12T19:05:24.000Z   \n",
       "3           24  2017-11-12T18:01:41.000Z   \n",
       "4           10  2017-11-09T11:04:14.000Z   \n",
       "\n",
       "                                                tags     views    likes  \\\n",
       "0  Eminem|\"Walk\"|\"On\"|\"Water\"|\"Aftermath/Shady/In...  17158579   787425   \n",
       "1  plush|\"bad unboxing\"|\"unboxing\"|\"fan mail\"|\"id...   1014651   127794   \n",
       "2  racist superman|\"rudy\"|\"mancuso\"|\"king\"|\"bach\"...   3191434   146035   \n",
       "3  ryan|\"higa\"|\"higatv\"|\"nigahiga\"|\"i dare you\"|\"...   2095828   132239   \n",
       "4  edsheeran|\"ed sheeran\"|\"acoustic\"|\"live\"|\"cove...  33523622  1634130   \n",
       "\n",
       "   dislikes  ...  comments_disabled ratings_disabled  video_error_or_removed  \\\n",
       "0     43420  ...              False            False                   False   \n",
       "1      1688  ...              False            False                   False   \n",
       "2      5339  ...              False            False                   False   \n",
       "3      1989  ...              False            False                   False   \n",
       "4     21082  ...              False            False                   False   \n",
       "\n",
       "                                         description  country   category_name  \\\n",
       "0  Eminem's new track Walk on Water ft. BeyoncÃ© ...       CA           Music   \n",
       "1  STill got a lot of packages. Probably will las...       CA          Comedy   \n",
       "2  WATCH MY PREVIOUS VIDEO â¶ \\n\\nSUBSCRIBE âº ...       CA          Comedy   \n",
       "3  I know it's been a while since we did this sho...       CA   Entertainment   \n",
       "4  ð§: https://ad.gt/yt-perfect\\nð°: https://...       CA           Music   \n",
       "\n",
       "   like_rate dislike_rate  comment_rate  count_punc  \n",
       "0   4.589104     0.253051      0.733639           4  \n",
       "1  12.594873     0.166363      1.284185           1  \n",
       "2   4.575843     0.167292      0.256342           3  \n",
       "3   6.309630     0.094903      0.835851           3  \n",
       "4   4.874563     0.062887      0.253752           3  \n",
       "\n",
       "[5 rows x 22 columns]"
      ]
     },
     "execution_count": 183,
     "metadata": {},
     "output_type": "execute_result"
    }
   ],
   "source": [
    "sample.head()"
   ]
  },
  {
   "cell_type": "code",
   "execution_count": 184,
   "id": "92cf8d4d",
   "metadata": {},
   "outputs": [
    {
     "data": {
      "text/plain": [
       "<AxesSubplot:xlabel='count_punc', ylabel='views'>"
      ]
     },
     "execution_count": 184,
     "metadata": {},
     "output_type": "execute_result"
    },
    {
     "data": {
      "image/png": "[encoded data removed]",
      "text/plain": [
       "<Figure size 864x576 with 1 Axes>"
      ]
     },
     "metadata": {
      "needs_background": "light"
     },
     "output_type": "display_data"
    }
   ],
   "source": [
    "plt.figure(figsize=(12,8))\n",
    "sns.boxplot(x='count_punc',y='views',data=sample)"
   ]
  },
  {
   "cell_type": "code",
   "execution_count": 185,
   "id": "e1dbb2d1",
   "metadata": {},
   "outputs": [
    {
     "data": {
      "text/plain": [
       "0.06510009783044846"
      ]
     },
     "execution_count": 185,
     "metadata": {},
     "output_type": "execute_result"
    }
   ],
   "source": [
    "sample['count_punc'].corr(sample['views'])"
   ]
  },
  {
   "cell_type": "code",
   "execution_count": null,
   "id": "62d5431d",
   "metadata": {},
   "outputs": [],
   "source": []
  },
  {
   "cell_type": "code",
   "execution_count": null,
   "id": "ef5a9157",
   "metadata": {},
   "outputs": [],
   "source": []
  },
  {
   "cell_type": "code",
   "execution_count": null,
   "id": "ec7ba7d9",
   "metadata": {},
   "outputs": [],
   "source": []
  },
  {
   "cell_type": "code",
   "execution_count": null,
   "id": "e36b34a5",
   "metadata": {},
   "outputs": [],
   "source": []
  }
 ],
 "metadata": {
  "kernelspec": {
   "display_name": "Python 3 (ipykernel)",
   "language": "python",
   "name": "python3"
  },
  "language_info": {
   "codemirror_mode": {
    "name": "ipython",
    "version": 3
   },
   "file_extension": ".py",
   "mimetype": "text/x-python",
   "name": "python",
   "nbconvert_exporter": "python",
   "pygments_lexer": "ipython3",
   "version": "3.7.0"
  }
 },
 "nbformat": 4,
 "nbformat_minor": 5
}
